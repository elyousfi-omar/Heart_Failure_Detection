{
 "cells": [
  {
   "cell_type": "markdown",
   "id": "f0b30d25",
   "metadata": {
    "papermill": {
     "duration": 0.079005,
     "end_time": "2022-02-27T12:40:41.568512",
     "exception": false,
     "start_time": "2022-02-27T12:40:41.489507",
     "status": "completed"
    },
    "tags": []
   },
   "source": [
    "# Heart Failure Prediction\n",
    "`Omar El Yousfi`\n",
    "# Introduction:\n",
    "To predict a heart failure case, we will use multiple machine learning models, in order to find the best performing algorithm. In order to achieve that, we have to choose an evaluation metric. Since we want to minimize False Negatives, meaning we do not want to predict that someone does not have heart failure and they turn out they do. Therefore, we will use Recall as our evaluation metric. <br> \n",
    "Before moving to model building and hyperparameter tunning, we will first clean the data and perform necessary pre processing steps and EDA."
   ]
  },
  {
   "cell_type": "markdown",
   "id": "9e35789d",
   "metadata": {
    "papermill": {
     "duration": 0.07626,
     "end_time": "2022-02-27T12:40:41.721668",
     "exception": false,
     "start_time": "2022-02-27T12:40:41.645408",
     "status": "completed"
    },
    "tags": []
   },
   "source": [
    "## Importing Necessary Packages and Dataset "
   ]
  },
  {
   "cell_type": "code",
   "execution_count": 1,
   "id": "2f6608f2",
   "metadata": {
    "_cell_guid": "b1076dfc-b9ad-4769-8c92-a6c4dae69d19",
    "_uuid": "8f2839f25d086af736a60e9eeb907d3b93b6e0e5",
    "execution": {
     "iopub.execute_input": "2022-02-27T12:40:41.882250Z",
     "iopub.status.busy": "2022-02-27T12:40:41.881052Z",
     "iopub.status.idle": "2022-02-27T12:40:42.903298Z",
     "shell.execute_reply": "2022-02-27T12:40:42.902490Z",
     "shell.execute_reply.started": "2022-02-27T12:39:06.321196Z"
    },
    "papermill": {
     "duration": 1.104505,
     "end_time": "2022-02-27T12:40:42.903486",
     "exception": false,
     "start_time": "2022-02-27T12:40:41.798981",
     "status": "completed"
    },
    "tags": []
   },
   "outputs": [],
   "source": [
    "import numpy as np \n",
    "import pandas as pd \n",
    "import seaborn as sns\n",
    "import matplotlib.pyplot as plt"
   ]
  },
  {
   "cell_type": "code",
   "execution_count": 2,
   "id": "51a0161e",
   "metadata": {
    "execution": {
     "iopub.execute_input": "2022-02-27T12:40:43.068910Z",
     "iopub.status.busy": "2022-02-27T12:40:43.068292Z",
     "iopub.status.idle": "2022-02-27T12:40:43.103837Z",
     "shell.execute_reply": "2022-02-27T12:40:43.104314Z",
     "shell.execute_reply.started": "2022-02-27T12:39:07.539053Z"
    },
    "papermill": {
     "duration": 0.120012,
     "end_time": "2022-02-27T12:40:43.104493",
     "exception": false,
     "start_time": "2022-02-27T12:40:42.984481",
     "status": "completed"
    },
    "tags": []
   },
   "outputs": [
    {
     "data": {
      "text/html": [
       "<div>\n",
       "<style scoped>\n",
       "    .dataframe tbody tr th:only-of-type {\n",
       "        vertical-align: middle;\n",
       "    }\n",
       "\n",
       "    .dataframe tbody tr th {\n",
       "        vertical-align: top;\n",
       "    }\n",
       "\n",
       "    .dataframe thead th {\n",
       "        text-align: right;\n",
       "    }\n",
       "</style>\n",
       "<table border=\"1\" class=\"dataframe\">\n",
       "  <thead>\n",
       "    <tr style=\"text-align: right;\">\n",
       "      <th></th>\n",
       "      <th>Age</th>\n",
       "      <th>Sex</th>\n",
       "      <th>ChestPainType</th>\n",
       "      <th>RestingBP</th>\n",
       "      <th>Cholesterol</th>\n",
       "      <th>FastingBS</th>\n",
       "      <th>RestingECG</th>\n",
       "      <th>MaxHR</th>\n",
       "      <th>ExerciseAngina</th>\n",
       "      <th>Oldpeak</th>\n",
       "      <th>ST_Slope</th>\n",
       "      <th>HeartDisease</th>\n",
       "    </tr>\n",
       "  </thead>\n",
       "  <tbody>\n",
       "    <tr>\n",
       "      <th>0</th>\n",
       "      <td>40</td>\n",
       "      <td>M</td>\n",
       "      <td>ATA</td>\n",
       "      <td>140</td>\n",
       "      <td>289</td>\n",
       "      <td>0</td>\n",
       "      <td>Normal</td>\n",
       "      <td>172</td>\n",
       "      <td>N</td>\n",
       "      <td>0.0</td>\n",
       "      <td>Up</td>\n",
       "      <td>0</td>\n",
       "    </tr>\n",
       "    <tr>\n",
       "      <th>1</th>\n",
       "      <td>49</td>\n",
       "      <td>F</td>\n",
       "      <td>NAP</td>\n",
       "      <td>160</td>\n",
       "      <td>180</td>\n",
       "      <td>0</td>\n",
       "      <td>Normal</td>\n",
       "      <td>156</td>\n",
       "      <td>N</td>\n",
       "      <td>1.0</td>\n",
       "      <td>Flat</td>\n",
       "      <td>1</td>\n",
       "    </tr>\n",
       "    <tr>\n",
       "      <th>2</th>\n",
       "      <td>37</td>\n",
       "      <td>M</td>\n",
       "      <td>ATA</td>\n",
       "      <td>130</td>\n",
       "      <td>283</td>\n",
       "      <td>0</td>\n",
       "      <td>ST</td>\n",
       "      <td>98</td>\n",
       "      <td>N</td>\n",
       "      <td>0.0</td>\n",
       "      <td>Up</td>\n",
       "      <td>0</td>\n",
       "    </tr>\n",
       "    <tr>\n",
       "      <th>3</th>\n",
       "      <td>48</td>\n",
       "      <td>F</td>\n",
       "      <td>ASY</td>\n",
       "      <td>138</td>\n",
       "      <td>214</td>\n",
       "      <td>0</td>\n",
       "      <td>Normal</td>\n",
       "      <td>108</td>\n",
       "      <td>Y</td>\n",
       "      <td>1.5</td>\n",
       "      <td>Flat</td>\n",
       "      <td>1</td>\n",
       "    </tr>\n",
       "    <tr>\n",
       "      <th>4</th>\n",
       "      <td>54</td>\n",
       "      <td>M</td>\n",
       "      <td>NAP</td>\n",
       "      <td>150</td>\n",
       "      <td>195</td>\n",
       "      <td>0</td>\n",
       "      <td>Normal</td>\n",
       "      <td>122</td>\n",
       "      <td>N</td>\n",
       "      <td>0.0</td>\n",
       "      <td>Up</td>\n",
       "      <td>0</td>\n",
       "    </tr>\n",
       "  </tbody>\n",
       "</table>\n",
       "</div>"
      ],
      "text/plain": [
       "   Age Sex ChestPainType  RestingBP  Cholesterol  FastingBS RestingECG  MaxHR  \\\n",
       "0   40   M           ATA        140          289          0     Normal    172   \n",
       "1   49   F           NAP        160          180          0     Normal    156   \n",
       "2   37   M           ATA        130          283          0         ST     98   \n",
       "3   48   F           ASY        138          214          0     Normal    108   \n",
       "4   54   M           NAP        150          195          0     Normal    122   \n",
       "\n",
       "  ExerciseAngina  Oldpeak ST_Slope  HeartDisease  \n",
       "0              N      0.0       Up             0  \n",
       "1              N      1.0     Flat             1  \n",
       "2              N      0.0       Up             0  \n",
       "3              Y      1.5     Flat             1  \n",
       "4              N      0.0       Up             0  "
      ]
     },
     "execution_count": 2,
     "metadata": {},
     "output_type": "execute_result"
    }
   ],
   "source": [
    "data = pd.read_csv('../input/heart-failure-prediction/heart.csv')\n",
    "data.head()"
   ]
  },
  {
   "cell_type": "markdown",
   "id": "e6389d8d",
   "metadata": {
    "papermill": {
     "duration": 0.077646,
     "end_time": "2022-02-27T12:40:43.261519",
     "exception": false,
     "start_time": "2022-02-27T12:40:43.183873",
     "status": "completed"
    },
    "tags": []
   },
   "source": [
    "# Exploratory Data Analysis"
   ]
  },
  {
   "cell_type": "code",
   "execution_count": 3,
   "id": "7aded5a2",
   "metadata": {
    "execution": {
     "iopub.execute_input": "2022-02-27T12:40:43.422558Z",
     "iopub.status.busy": "2022-02-27T12:40:43.421564Z",
     "iopub.status.idle": "2022-02-27T12:40:43.445950Z",
     "shell.execute_reply": "2022-02-27T12:40:43.445433Z",
     "shell.execute_reply.started": "2022-02-27T12:39:07.581366Z"
    },
    "papermill": {
     "duration": 0.10585,
     "end_time": "2022-02-27T12:40:43.446097",
     "exception": false,
     "start_time": "2022-02-27T12:40:43.340247",
     "status": "completed"
    },
    "tags": []
   },
   "outputs": [
    {
     "name": "stdout",
     "output_type": "stream",
     "text": [
      "<class 'pandas.core.frame.DataFrame'>\n",
      "RangeIndex: 918 entries, 0 to 917\n",
      "Data columns (total 12 columns):\n",
      " #   Column          Non-Null Count  Dtype  \n",
      "---  ------          --------------  -----  \n",
      " 0   Age             918 non-null    int64  \n",
      " 1   Sex             918 non-null    object \n",
      " 2   ChestPainType   918 non-null    object \n",
      " 3   RestingBP       918 non-null    int64  \n",
      " 4   Cholesterol     918 non-null    int64  \n",
      " 5   FastingBS       918 non-null    int64  \n",
      " 6   RestingECG      918 non-null    object \n",
      " 7   MaxHR           918 non-null    int64  \n",
      " 8   ExerciseAngina  918 non-null    object \n",
      " 9   Oldpeak         918 non-null    float64\n",
      " 10  ST_Slope        918 non-null    object \n",
      " 11  HeartDisease    918 non-null    int64  \n",
      "dtypes: float64(1), int64(6), object(5)\n",
      "memory usage: 86.2+ KB\n"
     ]
    }
   ],
   "source": [
    "data.info()"
   ]
  },
  {
   "cell_type": "markdown",
   "id": "62506138",
   "metadata": {
    "papermill": {
     "duration": 0.078743,
     "end_time": "2022-02-27T12:40:43.604483",
     "exception": false,
     "start_time": "2022-02-27T12:40:43.525740",
     "status": "completed"
    },
    "tags": []
   },
   "source": [
    "Looking at the summary of the data, we can see that initially we have no missing values, which we will investigate later on. We also see that some columns should be converted to \"category\" type such as *Sex*, and *ChestPainType*."
   ]
  },
  {
   "cell_type": "markdown",
   "id": "64c12c69",
   "metadata": {
    "papermill": {
     "duration": 0.0788,
     "end_time": "2022-02-27T12:40:43.764375",
     "exception": false,
     "start_time": "2022-02-27T12:40:43.685575",
     "status": "completed"
    },
    "tags": []
   },
   "source": [
    "### Statistic Summary"
   ]
  },
  {
   "cell_type": "code",
   "execution_count": 4,
   "id": "e9287876",
   "metadata": {
    "execution": {
     "iopub.execute_input": "2022-02-27T12:40:43.926412Z",
     "iopub.status.busy": "2022-02-27T12:40:43.925745Z",
     "iopub.status.idle": "2022-02-27T12:40:44.031138Z",
     "shell.execute_reply": "2022-02-27T12:40:44.030621Z",
     "shell.execute_reply.started": "2022-02-27T12:39:07.607806Z"
    },
    "papermill": {
     "duration": 0.188489,
     "end_time": "2022-02-27T12:40:44.031292",
     "exception": false,
     "start_time": "2022-02-27T12:40:43.842803",
     "status": "completed"
    },
    "tags": []
   },
   "outputs": [
    {
     "data": {
      "text/html": [
       "<style type=\"text/css\">\n",
       "#T_f9697_row0_col0, #T_f9697_row1_col0, #T_f9697_row2_col0, #T_f9697_row3_col0, #T_f9697_row3_col1, #T_f9697_row3_col2, #T_f9697_row3_col4, #T_f9697_row3_col5, #T_f9697_row3_col6, #T_f9697_row3_col7, #T_f9697_row4_col0, #T_f9697_row5_col0, #T_f9697_row5_col1, #T_f9697_row5_col3, #T_f9697_row5_col4, #T_f9697_row5_col5, #T_f9697_row6_col0, #T_f9697_row6_col1, #T_f9697_row6_col2, #T_f9697_row6_col4, #T_f9697_row6_col6, #T_f9697_row6_col7 {\n",
       "  background-color: #fff7f3;\n",
       "  color: #000000;\n",
       "}\n",
       "#T_f9697_row0_col1 {\n",
       "  background-color: #fcc0bf;\n",
       "  color: #000000;\n",
       "}\n",
       "#T_f9697_row0_col2 {\n",
       "  background-color: #fee8e5;\n",
       "  color: #000000;\n",
       "}\n",
       "#T_f9697_row0_col3 {\n",
       "  background-color: #f76ca3;\n",
       "  color: #f1f1f1;\n",
       "}\n",
       "#T_f9697_row0_col4 {\n",
       "  background-color: #fcbfbe;\n",
       "  color: #000000;\n",
       "}\n",
       "#T_f9697_row0_col5 {\n",
       "  background-color: #fcc7c3;\n",
       "  color: #000000;\n",
       "}\n",
       "#T_f9697_row0_col6 {\n",
       "  background-color: #fccbc6;\n",
       "  color: #000000;\n",
       "}\n",
       "#T_f9697_row0_col7 {\n",
       "  background-color: #fde0dd;\n",
       "  color: #000000;\n",
       "}\n",
       "#T_f9697_row1_col1 {\n",
       "  background-color: #cd238f;\n",
       "  color: #f1f1f1;\n",
       "}\n",
       "#T_f9697_row1_col2 {\n",
       "  background-color: #fdd7d4;\n",
       "  color: #000000;\n",
       "}\n",
       "#T_f9697_row1_col3, #T_f9697_row2_col3, #T_f9697_row3_col3, #T_f9697_row6_col3 {\n",
       "  background-color: #fef0ec;\n",
       "  color: #000000;\n",
       "}\n",
       "#T_f9697_row1_col4, #T_f9697_row4_col4 {\n",
       "  background-color: #c31889;\n",
       "  color: #f1f1f1;\n",
       "}\n",
       "#T_f9697_row1_col5, #T_f9697_row4_col6 {\n",
       "  background-color: #e5459a;\n",
       "  color: #f1f1f1;\n",
       "}\n",
       "#T_f9697_row1_col6 {\n",
       "  background-color: #f25d9f;\n",
       "  color: #f1f1f1;\n",
       "}\n",
       "#T_f9697_row1_col7 {\n",
       "  background-color: #fbadb9;\n",
       "  color: #000000;\n",
       "}\n",
       "#T_f9697_row2_col1, #T_f9697_row2_col2, #T_f9697_row2_col4, #T_f9697_row2_col5, #T_f9697_row2_col6, #T_f9697_row2_col7, #T_f9697_row4_col3 {\n",
       "  background-color: #49006a;\n",
       "  color: #f1f1f1;\n",
       "}\n",
       "#T_f9697_row4_col1 {\n",
       "  background-color: #c4198a;\n",
       "  color: #f1f1f1;\n",
       "}\n",
       "#T_f9697_row4_col2 {\n",
       "  background-color: #fccac5;\n",
       "  color: #000000;\n",
       "}\n",
       "#T_f9697_row4_col5 {\n",
       "  background-color: #de3697;\n",
       "  color: #f1f1f1;\n",
       "}\n",
       "#T_f9697_row4_col7 {\n",
       "  background-color: #fbacb9;\n",
       "  color: #000000;\n",
       "}\n",
       "#T_f9697_row5_col2, #T_f9697_row5_col6, #T_f9697_row5_col7, #T_f9697_row6_col5 {\n",
       "  background-color: #fff6f2;\n",
       "  color: #000000;\n",
       "}\n",
       "</style>\n",
       "<table id=\"T_f9697_\">\n",
       "  <thead>\n",
       "    <tr>\n",
       "      <th class=\"blank level0\" >&nbsp;</th>\n",
       "      <th class=\"col_heading level0 col0\" >count</th>\n",
       "      <th class=\"col_heading level0 col1\" >mean</th>\n",
       "      <th class=\"col_heading level0 col2\" >std</th>\n",
       "      <th class=\"col_heading level0 col3\" >min</th>\n",
       "      <th class=\"col_heading level0 col4\" >25%</th>\n",
       "      <th class=\"col_heading level0 col5\" >50%</th>\n",
       "      <th class=\"col_heading level0 col6\" >75%</th>\n",
       "      <th class=\"col_heading level0 col7\" >max</th>\n",
       "    </tr>\n",
       "  </thead>\n",
       "  <tbody>\n",
       "    <tr>\n",
       "      <th id=\"T_f9697_level0_row0\" class=\"row_heading level0 row0\" >Age</th>\n",
       "      <td id=\"T_f9697_row0_col0\" class=\"data row0 col0\" >918.000000</td>\n",
       "      <td id=\"T_f9697_row0_col1\" class=\"data row0 col1\" >53.510893</td>\n",
       "      <td id=\"T_f9697_row0_col2\" class=\"data row0 col2\" >9.432617</td>\n",
       "      <td id=\"T_f9697_row0_col3\" class=\"data row0 col3\" >28.000000</td>\n",
       "      <td id=\"T_f9697_row0_col4\" class=\"data row0 col4\" >47.000000</td>\n",
       "      <td id=\"T_f9697_row0_col5\" class=\"data row0 col5\" >54.000000</td>\n",
       "      <td id=\"T_f9697_row0_col6\" class=\"data row0 col6\" >60.000000</td>\n",
       "      <td id=\"T_f9697_row0_col7\" class=\"data row0 col7\" >77.000000</td>\n",
       "    </tr>\n",
       "    <tr>\n",
       "      <th id=\"T_f9697_level0_row1\" class=\"row_heading level0 row1\" >RestingBP</th>\n",
       "      <td id=\"T_f9697_row1_col0\" class=\"data row1 col0\" >918.000000</td>\n",
       "      <td id=\"T_f9697_row1_col1\" class=\"data row1 col1\" >132.396514</td>\n",
       "      <td id=\"T_f9697_row1_col2\" class=\"data row1 col2\" >18.514154</td>\n",
       "      <td id=\"T_f9697_row1_col3\" class=\"data row1 col3\" >0.000000</td>\n",
       "      <td id=\"T_f9697_row1_col4\" class=\"data row1 col4\" >120.000000</td>\n",
       "      <td id=\"T_f9697_row1_col5\" class=\"data row1 col5\" >130.000000</td>\n",
       "      <td id=\"T_f9697_row1_col6\" class=\"data row1 col6\" >140.000000</td>\n",
       "      <td id=\"T_f9697_row1_col7\" class=\"data row1 col7\" >200.000000</td>\n",
       "    </tr>\n",
       "    <tr>\n",
       "      <th id=\"T_f9697_level0_row2\" class=\"row_heading level0 row2\" >Cholesterol</th>\n",
       "      <td id=\"T_f9697_row2_col0\" class=\"data row2 col0\" >918.000000</td>\n",
       "      <td id=\"T_f9697_row2_col1\" class=\"data row2 col1\" >198.799564</td>\n",
       "      <td id=\"T_f9697_row2_col2\" class=\"data row2 col2\" >109.384145</td>\n",
       "      <td id=\"T_f9697_row2_col3\" class=\"data row2 col3\" >0.000000</td>\n",
       "      <td id=\"T_f9697_row2_col4\" class=\"data row2 col4\" >173.250000</td>\n",
       "      <td id=\"T_f9697_row2_col5\" class=\"data row2 col5\" >223.000000</td>\n",
       "      <td id=\"T_f9697_row2_col6\" class=\"data row2 col6\" >267.000000</td>\n",
       "      <td id=\"T_f9697_row2_col7\" class=\"data row2 col7\" >603.000000</td>\n",
       "    </tr>\n",
       "    <tr>\n",
       "      <th id=\"T_f9697_level0_row3\" class=\"row_heading level0 row3\" >FastingBS</th>\n",
       "      <td id=\"T_f9697_row3_col0\" class=\"data row3 col0\" >918.000000</td>\n",
       "      <td id=\"T_f9697_row3_col1\" class=\"data row3 col1\" >0.233115</td>\n",
       "      <td id=\"T_f9697_row3_col2\" class=\"data row3 col2\" >0.423046</td>\n",
       "      <td id=\"T_f9697_row3_col3\" class=\"data row3 col3\" >0.000000</td>\n",
       "      <td id=\"T_f9697_row3_col4\" class=\"data row3 col4\" >0.000000</td>\n",
       "      <td id=\"T_f9697_row3_col5\" class=\"data row3 col5\" >0.000000</td>\n",
       "      <td id=\"T_f9697_row3_col6\" class=\"data row3 col6\" >0.000000</td>\n",
       "      <td id=\"T_f9697_row3_col7\" class=\"data row3 col7\" >1.000000</td>\n",
       "    </tr>\n",
       "    <tr>\n",
       "      <th id=\"T_f9697_level0_row4\" class=\"row_heading level0 row4\" >MaxHR</th>\n",
       "      <td id=\"T_f9697_row4_col0\" class=\"data row4 col0\" >918.000000</td>\n",
       "      <td id=\"T_f9697_row4_col1\" class=\"data row4 col1\" >136.809368</td>\n",
       "      <td id=\"T_f9697_row4_col2\" class=\"data row4 col2\" >25.460334</td>\n",
       "      <td id=\"T_f9697_row4_col3\" class=\"data row4 col3\" >60.000000</td>\n",
       "      <td id=\"T_f9697_row4_col4\" class=\"data row4 col4\" >120.000000</td>\n",
       "      <td id=\"T_f9697_row4_col5\" class=\"data row4 col5\" >138.000000</td>\n",
       "      <td id=\"T_f9697_row4_col6\" class=\"data row4 col6\" >156.000000</td>\n",
       "      <td id=\"T_f9697_row4_col7\" class=\"data row4 col7\" >202.000000</td>\n",
       "    </tr>\n",
       "    <tr>\n",
       "      <th id=\"T_f9697_level0_row5\" class=\"row_heading level0 row5\" >Oldpeak</th>\n",
       "      <td id=\"T_f9697_row5_col0\" class=\"data row5 col0\" >918.000000</td>\n",
       "      <td id=\"T_f9697_row5_col1\" class=\"data row5 col1\" >0.887364</td>\n",
       "      <td id=\"T_f9697_row5_col2\" class=\"data row5 col2\" >1.066570</td>\n",
       "      <td id=\"T_f9697_row5_col3\" class=\"data row5 col3\" >-2.600000</td>\n",
       "      <td id=\"T_f9697_row5_col4\" class=\"data row5 col4\" >0.000000</td>\n",
       "      <td id=\"T_f9697_row5_col5\" class=\"data row5 col5\" >0.600000</td>\n",
       "      <td id=\"T_f9697_row5_col6\" class=\"data row5 col6\" >1.500000</td>\n",
       "      <td id=\"T_f9697_row5_col7\" class=\"data row5 col7\" >6.200000</td>\n",
       "    </tr>\n",
       "    <tr>\n",
       "      <th id=\"T_f9697_level0_row6\" class=\"row_heading level0 row6\" >HeartDisease</th>\n",
       "      <td id=\"T_f9697_row6_col0\" class=\"data row6 col0\" >918.000000</td>\n",
       "      <td id=\"T_f9697_row6_col1\" class=\"data row6 col1\" >0.553377</td>\n",
       "      <td id=\"T_f9697_row6_col2\" class=\"data row6 col2\" >0.497414</td>\n",
       "      <td id=\"T_f9697_row6_col3\" class=\"data row6 col3\" >0.000000</td>\n",
       "      <td id=\"T_f9697_row6_col4\" class=\"data row6 col4\" >0.000000</td>\n",
       "      <td id=\"T_f9697_row6_col5\" class=\"data row6 col5\" >1.000000</td>\n",
       "      <td id=\"T_f9697_row6_col6\" class=\"data row6 col6\" >1.000000</td>\n",
       "      <td id=\"T_f9697_row6_col7\" class=\"data row6 col7\" >1.000000</td>\n",
       "    </tr>\n",
       "  </tbody>\n",
       "</table>\n"
      ],
      "text/plain": [
       "<pandas.io.formats.style.Styler at 0x7f779a280a90>"
      ]
     },
     "execution_count": 4,
     "metadata": {},
     "output_type": "execute_result"
    }
   ],
   "source": [
    "data.describe().T.style.background_gradient(cmap='RdPu')"
   ]
  },
  {
   "cell_type": "markdown",
   "id": "2ca615a3",
   "metadata": {
    "papermill": {
     "duration": 0.079328,
     "end_time": "2022-02-27T12:40:44.191288",
     "exception": false,
     "start_time": "2022-02-27T12:40:44.111960",
     "status": "completed"
    },
    "tags": []
   },
   "source": [
    "While analyzing this statistical summary, we notice that minimum value of Cholesterol is 0, which is odd since the serum Cholesterol minimum value is 50-60, which may indicate that there are missing values that we noted as 0 in the dataset, we will investigate these in the pre processing part. <br>\n",
    "We can see that the mean age and median age of our observations coincide, which indicates that this column is normally distributed, also that patiens in our dataset are old => older people get more heart failure problems than younger people. <br>"
   ]
  },
  {
   "cell_type": "code",
   "execution_count": 5,
   "id": "97146c26",
   "metadata": {
    "execution": {
     "iopub.execute_input": "2022-02-27T12:40:44.352943Z",
     "iopub.status.busy": "2022-02-27T12:40:44.352346Z",
     "iopub.status.idle": "2022-02-27T12:40:50.729355Z",
     "shell.execute_reply": "2022-02-27T12:40:50.729847Z",
     "shell.execute_reply.started": "2022-02-27T12:39:07.698254Z"
    },
    "papermill": {
     "duration": 6.459801,
     "end_time": "2022-02-27T12:40:50.730015",
     "exception": false,
     "start_time": "2022-02-27T12:40:44.270214",
     "status": "completed"
    },
    "tags": []
   },
   "outputs": [
    {
     "data": {
      "image/png": "[encoded data removed]",
      "text/plain": [
       "<Figure size 1155.25x1080 with 27 Axes>"
      ]
     },
     "metadata": {
      "needs_background": "light"
     },
     "output_type": "display_data"
    }
   ],
   "source": [
    "sns.pairplot(data, hue=\"HeartDisease\", corner=True)\n",
    "plt.legend(\"HeartDisease\")\n",
    "plt.tight_layout()\n",
    "plt.show()"
   ]
  },
  {
   "cell_type": "markdown",
   "id": "a4dc45a8",
   "metadata": {
    "papermill": {
     "duration": 0.086384,
     "end_time": "2022-02-27T12:40:50.903194",
     "exception": false,
     "start_time": "2022-02-27T12:40:50.816810",
     "status": "completed"
    },
    "tags": []
   },
   "source": [
    "Looking at this pairplot, we can find some patters in the data but they are not quite apparent."
   ]
  },
  {
   "cell_type": "markdown",
   "id": "850685b6",
   "metadata": {
    "papermill": {
     "duration": 0.087605,
     "end_time": "2022-02-27T12:40:51.078676",
     "exception": false,
     "start_time": "2022-02-27T12:40:50.991071",
     "status": "completed"
    },
    "tags": []
   },
   "source": [
    "### Distributions"
   ]
  },
  {
   "cell_type": "code",
   "execution_count": 6,
   "id": "e3dd5d8d",
   "metadata": {
    "execution": {
     "iopub.execute_input": "2022-02-27T12:40:51.258328Z",
     "iopub.status.busy": "2022-02-27T12:40:51.257324Z",
     "iopub.status.idle": "2022-02-27T12:40:52.842629Z",
     "shell.execute_reply": "2022-02-27T12:40:52.843145Z",
     "shell.execute_reply.started": "2022-02-27T12:39:12.959170Z"
    },
    "papermill": {
     "duration": 1.676876,
     "end_time": "2022-02-27T12:40:52.843332",
     "exception": false,
     "start_time": "2022-02-27T12:40:51.166456",
     "status": "completed"
    },
    "tags": []
   },
   "outputs": [
    {
     "data": {
      "image/png": "[encoded data removed]",
      "text/plain": [
       "<Figure size 864x432 with 8 Axes>"
      ]
     },
     "metadata": {
      "needs_background": "light"
     },
     "output_type": "display_data"
    }
   ],
   "source": [
    "g = sns.FacetGrid(data, row=\"Sex\", col=\"ChestPainType\")\n",
    "g.map_dataframe(sns.histplot, \"Cholesterol\")\n",
    "plt.show()"
   ]
  },
  {
   "cell_type": "code",
   "execution_count": 7,
   "id": "4e81e027",
   "metadata": {
    "execution": {
     "iopub.execute_input": "2022-02-27T12:40:53.025415Z",
     "iopub.status.busy": "2022-02-27T12:40:53.024546Z",
     "iopub.status.idle": "2022-02-27T12:40:55.945918Z",
     "shell.execute_reply": "2022-02-27T12:40:55.946895Z",
     "shell.execute_reply.started": "2022-02-27T12:39:14.233808Z"
    },
    "papermill": {
     "duration": 3.014358,
     "end_time": "2022-02-27T12:40:55.947083",
     "exception": false,
     "start_time": "2022-02-27T12:40:52.932725",
     "status": "completed"
    },
    "tags": []
   },
   "outputs": [
    {
     "data": {
      "image/png": "[encoded data removed]",
      "text/plain": [
       "<Figure size 1080x720 with 12 Axes>"
      ]
     },
     "metadata": {
      "needs_background": "light"
     },
     "output_type": "display_data"
    }
   ],
   "source": [
    "plt.figure(figsize=(15,10))\n",
    "for i, col in enumerate(data.columns, 1):\n",
    "    plt.subplot(4, 3, i)\n",
    "    sns.histplot(x=col, data=data)\n",
    "    plt.title(\"Distribution of {}\".format(col))\n",
    "    plt.tight_layout()\n",
    "plt.show()"
   ]
  },
  {
   "cell_type": "markdown",
   "id": "18a03eb7",
   "metadata": {
    "papermill": {
     "duration": 0.09227,
     "end_time": "2022-02-27T12:40:56.131209",
     "exception": false,
     "start_time": "2022-02-27T12:40:56.038939",
     "status": "completed"
    },
    "tags": []
   },
   "source": [
    "### Boxplots"
   ]
  },
  {
   "cell_type": "code",
   "execution_count": 8,
   "id": "30df19ed",
   "metadata": {
    "execution": {
     "iopub.execute_input": "2022-02-27T12:40:56.330138Z",
     "iopub.status.busy": "2022-02-27T12:40:56.320408Z",
     "iopub.status.idle": "2022-02-27T12:40:56.487553Z",
     "shell.execute_reply": "2022-02-27T12:40:56.486862Z",
     "shell.execute_reply.started": "2022-02-27T12:39:16.547384Z"
    },
    "papermill": {
     "duration": 0.265898,
     "end_time": "2022-02-27T12:40:56.487690",
     "exception": false,
     "start_time": "2022-02-27T12:40:56.221792",
     "status": "completed"
    },
    "tags": []
   },
   "outputs": [
    {
     "data": {
      "image/png": "[encoded data removed]",
      "text/plain": [
       "<Figure size 432x288 with 1 Axes>"
      ]
     },
     "metadata": {
      "needs_background": "light"
     },
     "output_type": "display_data"
    }
   ],
   "source": [
    "sns.boxplot(x=\"Sex\", y=\"Cholesterol\", data=data)\n",
    "plt.show()"
   ]
  },
  {
   "cell_type": "code",
   "execution_count": 9,
   "id": "8f6df80f",
   "metadata": {
    "execution": {
     "iopub.execute_input": "2022-02-27T12:40:56.673805Z",
     "iopub.status.busy": "2022-02-27T12:40:56.673076Z",
     "iopub.status.idle": "2022-02-27T12:40:57.600142Z",
     "shell.execute_reply": "2022-02-27T12:40:57.600645Z",
     "shell.execute_reply.started": "2022-02-27T12:39:16.677698Z"
    },
    "papermill": {
     "duration": 1.022253,
     "end_time": "2022-02-27T12:40:57.600824",
     "exception": false,
     "start_time": "2022-02-27T12:40:56.578571",
     "status": "completed"
    },
    "tags": []
   },
   "outputs": [
    {
     "data": {
      "image/png": "[encoded data removed]",
      "text/plain": [
       "<Figure size 1515.25x360 with 4 Axes>"
      ]
     },
     "metadata": {
      "needs_background": "light"
     },
     "output_type": "display_data"
    }
   ],
   "source": [
    "sns.catplot(x=\"Sex\", y=\"Cholesterol\", hue=\"HeartDisease\", col=\"ChestPainType\", data=data, kind=\"box\")\n",
    "plt.show()"
   ]
  },
  {
   "cell_type": "markdown",
   "id": "eff448a9",
   "metadata": {
    "papermill": {
     "duration": 0.092059,
     "end_time": "2022-02-27T12:40:57.785974",
     "exception": false,
     "start_time": "2022-02-27T12:40:57.693915",
     "status": "completed"
    },
    "tags": []
   },
   "source": [
    "## Pre-Processing"
   ]
  },
  {
   "cell_type": "markdown",
   "id": "5ca1bac6",
   "metadata": {
    "papermill": {
     "duration": 0.092118,
     "end_time": "2022-02-27T12:40:57.971338",
     "exception": false,
     "start_time": "2022-02-27T12:40:57.879220",
     "status": "completed"
    },
    "tags": []
   },
   "source": [
    "First step in the pre processing, we have to change the type of categories to \"category\"."
   ]
  },
  {
   "cell_type": "code",
   "execution_count": 10,
   "id": "2f9cd420",
   "metadata": {
    "execution": {
     "iopub.execute_input": "2022-02-27T12:40:58.157380Z",
     "iopub.status.busy": "2022-02-27T12:40:58.156692Z",
     "iopub.status.idle": "2022-02-27T12:40:58.176527Z",
     "shell.execute_reply": "2022-02-27T12:40:58.177292Z",
     "shell.execute_reply.started": "2022-02-27T12:39:17.428387Z"
    },
    "papermill": {
     "duration": 0.113895,
     "end_time": "2022-02-27T12:40:58.177524",
     "exception": false,
     "start_time": "2022-02-27T12:40:58.063629",
     "status": "completed"
    },
    "tags": []
   },
   "outputs": [
    {
     "name": "stdout",
     "output_type": "stream",
     "text": [
      "<class 'pandas.core.frame.DataFrame'>\n",
      "RangeIndex: 918 entries, 0 to 917\n",
      "Data columns (total 12 columns):\n",
      " #   Column          Non-Null Count  Dtype   \n",
      "---  ------          --------------  -----   \n",
      " 0   Age             918 non-null    int64   \n",
      " 1   Sex             918 non-null    category\n",
      " 2   ChestPainType   918 non-null    category\n",
      " 3   RestingBP       918 non-null    int64   \n",
      " 4   Cholesterol     918 non-null    int64   \n",
      " 5   FastingBS       918 non-null    int64   \n",
      " 6   RestingECG      918 non-null    category\n",
      " 7   MaxHR           918 non-null    int64   \n",
      " 8   ExerciseAngina  918 non-null    category\n",
      " 9   Oldpeak         918 non-null    float64 \n",
      " 10  ST_Slope        918 non-null    category\n",
      " 11  HeartDisease    918 non-null    int64   \n",
      "dtypes: category(5), float64(1), int64(6)\n",
      "memory usage: 55.5 KB\n"
     ]
    }
   ],
   "source": [
    "categories = [\"ChestPainType\",\"RestingECG\", \"ChestPainType\", \"ST_Slope\", \"ExerciseAngina\", \"Sex\"]\n",
    "for cat in categories:\n",
    "    data[cat] = data[cat].astype(\"category\")\n",
    "data.info()"
   ]
  },
  {
   "cell_type": "markdown",
   "id": "77a33465",
   "metadata": {
    "papermill": {
     "duration": 0.091466,
     "end_time": "2022-02-27T12:40:58.361082",
     "exception": false,
     "start_time": "2022-02-27T12:40:58.269616",
     "status": "completed"
    },
    "tags": []
   },
   "source": [
    "Is recall a good metric for our data? We should check if the data is balanced, if not, we will have to use F1-score."
   ]
  },
  {
   "cell_type": "code",
   "execution_count": 11,
   "id": "c1efc454",
   "metadata": {
    "execution": {
     "iopub.execute_input": "2022-02-27T12:40:58.764771Z",
     "iopub.status.busy": "2022-02-27T12:40:58.759174Z",
     "iopub.status.idle": "2022-02-27T12:40:58.851368Z",
     "shell.execute_reply": "2022-02-27T12:40:58.852103Z",
     "shell.execute_reply.started": "2022-02-27T12:39:17.452017Z"
    },
    "papermill": {
     "duration": 0.397811,
     "end_time": "2022-02-27T12:40:58.852394",
     "exception": false,
     "start_time": "2022-02-27T12:40:58.454583",
     "status": "completed"
    },
    "tags": []
   },
   "outputs": [
    {
     "data": {
      "image/png": "[encoded data removed]",
      "text/plain": [
       "<Figure size 864x432 with 1 Axes>"
      ]
     },
     "metadata": {},
     "output_type": "display_data"
    }
   ],
   "source": [
    "plt.figure(figsize=(12,6))\n",
    "plt.subplot(122)\n",
    "plt.pie(data[\"HeartDisease\"].value_counts().values,\n",
    "        labels=[\"Malade\",\"Pas malade\"],\n",
    "        autopct=\"%1.0f%%\",wedgeprops={\"linewidth\":2,\"edgecolor\":\"white\"})\n",
    "my_circ = plt.Circle((0,0),.7,color = \"white\")\n",
    "plt.gca().add_artist(my_circ)\n",
    "plt.subplots_adjust(wspace = .2)\n",
    "plt.title(\"Proportion de target variables dans dataset\")\n",
    "plt.show()"
   ]
  },
  {
   "cell_type": "code",
   "execution_count": 12,
   "id": "d94b509f",
   "metadata": {
    "execution": {
     "iopub.execute_input": "2022-02-27T12:40:59.084649Z",
     "iopub.status.busy": "2022-02-27T12:40:59.082124Z",
     "iopub.status.idle": "2022-02-27T12:40:59.087478Z",
     "shell.execute_reply": "2022-02-27T12:40:59.087943Z",
     "shell.execute_reply.started": "2022-02-27T12:39:17.668689Z"
    },
    "papermill": {
     "duration": 0.105287,
     "end_time": "2022-02-27T12:40:59.088097",
     "exception": false,
     "start_time": "2022-02-27T12:40:58.982810",
     "status": "completed"
    },
    "tags": []
   },
   "outputs": [
    {
     "data": {
      "text/plain": [
       "1    0.553377\n",
       "0    0.446623\n",
       "Name: HeartDisease, dtype: float64"
      ]
     },
     "execution_count": 12,
     "metadata": {},
     "output_type": "execute_result"
    }
   ],
   "source": [
    "data['HeartDisease'].value_counts(normalize = True)"
   ]
  },
  {
   "cell_type": "markdown",
   "id": "cb83b0c3",
   "metadata": {
    "papermill": {
     "duration": 0.09274,
     "end_time": "2022-02-27T12:40:59.274864",
     "exception": false,
     "start_time": "2022-02-27T12:40:59.182124",
     "status": "completed"
    },
    "tags": []
   },
   "source": [
    "Our data is balanced since 55% of observations are sick, and 45% are not."
   ]
  },
  {
   "cell_type": "markdown",
   "id": "22b31ac2",
   "metadata": {
    "papermill": {
     "duration": 0.0928,
     "end_time": "2022-02-27T12:40:59.467981",
     "exception": false,
     "start_time": "2022-02-27T12:40:59.375181",
     "status": "completed"
    },
    "tags": []
   },
   "source": [
    "In the following heatmap, we will check if we have multi correlations in our data. As it looks, there is correlation."
   ]
  },
  {
   "cell_type": "code",
   "execution_count": 13,
   "id": "f86a0740",
   "metadata": {
    "execution": {
     "iopub.execute_input": "2022-02-27T12:40:59.663514Z",
     "iopub.status.busy": "2022-02-27T12:40:59.662841Z",
     "iopub.status.idle": "2022-02-27T12:41:00.132442Z",
     "shell.execute_reply": "2022-02-27T12:41:00.133006Z",
     "shell.execute_reply.started": "2022-02-27T12:39:17.677447Z"
    },
    "papermill": {
     "duration": 0.57111,
     "end_time": "2022-02-27T12:41:00.133165",
     "exception": false,
     "start_time": "2022-02-27T12:40:59.562055",
     "status": "completed"
    },
    "tags": []
   },
   "outputs": [
    {
     "data": {
      "image/png": "[encoded data removed]",
      "text/plain": [
       "<Figure size 720x576 with 2 Axes>"
      ]
     },
     "metadata": {
      "needs_background": "light"
     },
     "output_type": "display_data"
    }
   ],
   "source": [
    "correlation = data.corr()\n",
    "plt.figure(figsize=(10,8))\n",
    "sns.heatmap(correlation,annot=True,\n",
    "            cmap=sns.color_palette(\"magma\"),\n",
    "            linewidth=2,edgecolor=\"k\")\n",
    "plt.title(\"CORRELATION ENTRE LES VARIABLES\")\n",
    "plt.show()"
   ]
  },
  {
   "cell_type": "markdown",
   "id": "78b80741",
   "metadata": {
    "papermill": {
     "duration": 0.095891,
     "end_time": "2022-02-27T12:41:00.328416",
     "exception": false,
     "start_time": "2022-02-27T12:41:00.232525",
     "status": "completed"
    },
    "tags": []
   },
   "source": [
    "In the scope of descriptive analysis, we will check the type of distribution of some of our columns, we will use the following function to calculate the Empirical Cumulative Distribution Function of Cholesterol."
   ]
  },
  {
   "cell_type": "code",
   "execution_count": 14,
   "id": "f615f089",
   "metadata": {
    "execution": {
     "iopub.execute_input": "2022-02-27T12:41:00.522393Z",
     "iopub.status.busy": "2022-02-27T12:41:00.521754Z",
     "iopub.status.idle": "2022-02-27T12:41:00.526348Z",
     "shell.execute_reply": "2022-02-27T12:41:00.526910Z",
     "shell.execute_reply.started": "2022-02-27T12:39:18.041818Z"
    },
    "papermill": {
     "duration": 0.103233,
     "end_time": "2022-02-27T12:41:00.527057",
     "exception": false,
     "start_time": "2022-02-27T12:41:00.423824",
     "status": "completed"
    },
    "tags": []
   },
   "outputs": [],
   "source": [
    "def ecdf(data):\n",
    "    \"\"\"Compute ECDF for a one-dimensional array of measurements.\"\"\"\n",
    "    # Number of data points: n\n",
    "    n = len(data)\n",
    "\n",
    "    # x-data for the ECDF: x\n",
    "    x = np.sort(data)\n",
    "\n",
    "    # y-data for the ECDF: y\n",
    "    y = np.arange(1, n+1) / n\n",
    "\n",
    "    return x, y"
   ]
  },
  {
   "cell_type": "markdown",
   "id": "bde6d913",
   "metadata": {
    "papermill": {
     "duration": 0.095843,
     "end_time": "2022-02-27T12:41:00.718213",
     "exception": false,
     "start_time": "2022-02-27T12:41:00.622370",
     "status": "completed"
    },
    "tags": []
   },
   "source": [
    "As I mentioned before, the minimum value of cholesterol can not be 0, we can imputate this using Imputer of sklearn or easily we can convert these '0' to 'NaN' and fill these values with the mean Cholesterol."
   ]
  },
  {
   "cell_type": "code",
   "execution_count": 15,
   "id": "77efd647",
   "metadata": {
    "execution": {
     "iopub.execute_input": "2022-02-27T12:41:00.913029Z",
     "iopub.status.busy": "2022-02-27T12:41:00.912218Z",
     "iopub.status.idle": "2022-02-27T12:41:00.920150Z",
     "shell.execute_reply": "2022-02-27T12:41:00.920712Z",
     "shell.execute_reply.started": "2022-02-27T12:39:18.048247Z"
    },
    "papermill": {
     "duration": 0.106277,
     "end_time": "2022-02-27T12:41:00.920884",
     "exception": false,
     "start_time": "2022-02-27T12:41:00.814607",
     "status": "completed"
    },
    "tags": []
   },
   "outputs": [
    {
     "data": {
      "text/plain": [
       "count    918.000000\n",
       "mean     198.799564\n",
       "std      109.384145\n",
       "min        0.000000\n",
       "25%      173.250000\n",
       "50%      223.000000\n",
       "75%      267.000000\n",
       "max      603.000000\n",
       "Name: Cholesterol, dtype: float64"
      ]
     },
     "execution_count": 15,
     "metadata": {},
     "output_type": "execute_result"
    }
   ],
   "source": [
    "data[\"Cholesterol\"].describe()"
   ]
  },
  {
   "cell_type": "markdown",
   "id": "b03a0d41",
   "metadata": {
    "execution": {
     "iopub.execute_input": "2022-02-26T21:09:54.155899Z",
     "iopub.status.busy": "2022-02-26T21:09:54.155568Z",
     "iopub.status.idle": "2022-02-26T21:09:54.162384Z",
     "shell.execute_reply": "2022-02-26T21:09:54.161210Z",
     "shell.execute_reply.started": "2022-02-26T21:09:54.155865Z"
    },
    "papermill": {
     "duration": 0.097698,
     "end_time": "2022-02-27T12:41:01.114894",
     "exception": false,
     "start_time": "2022-02-27T12:41:01.017196",
     "status": "completed"
    },
    "tags": []
   },
   "source": [
    "The distance between 0 values and the rest of the data is more apparent in the following ecdf."
   ]
  },
  {
   "cell_type": "code",
   "execution_count": 16,
   "id": "420f4c26",
   "metadata": {
    "execution": {
     "iopub.execute_input": "2022-02-27T12:41:01.311153Z",
     "iopub.status.busy": "2022-02-27T12:41:01.310580Z",
     "iopub.status.idle": "2022-02-27T12:41:01.486850Z",
     "shell.execute_reply": "2022-02-27T12:41:01.486241Z",
     "shell.execute_reply.started": "2022-02-27T12:39:18.070545Z"
    },
    "papermill": {
     "duration": 0.275594,
     "end_time": "2022-02-27T12:41:01.486984",
     "exception": false,
     "start_time": "2022-02-27T12:41:01.211390",
     "status": "completed"
    },
    "tags": []
   },
   "outputs": [
    {
     "data": {
      "image/png": "[encoded data removed]",
      "text/plain": [
       "<Figure size 432x288 with 1 Axes>"
      ]
     },
     "metadata": {
      "needs_background": "light"
     },
     "output_type": "display_data"
    }
   ],
   "source": [
    "x, y = ecdf(data[\"Cholesterol\"])\n",
    "\n",
    "plt.plot(x, y, marker=\".\", linestyle = 'none')\n",
    "plt.show()"
   ]
  },
  {
   "cell_type": "markdown",
   "id": "5c580bee",
   "metadata": {
    "papermill": {
     "duration": 0.101343,
     "end_time": "2022-02-27T12:41:01.684869",
     "exception": false,
     "start_time": "2022-02-27T12:41:01.583526",
     "status": "completed"
    },
    "tags": []
   },
   "source": [
    "Also in this histogram:"
   ]
  },
  {
   "cell_type": "code",
   "execution_count": 17,
   "id": "20c282b8",
   "metadata": {
    "execution": {
     "iopub.execute_input": "2022-02-27T12:41:01.881491Z",
     "iopub.status.busy": "2022-02-27T12:41:01.880851Z",
     "iopub.status.idle": "2022-02-27T12:41:02.137962Z",
     "shell.execute_reply": "2022-02-27T12:41:02.137465Z",
     "shell.execute_reply.started": "2022-02-27T12:39:18.203968Z"
    },
    "papermill": {
     "duration": 0.356681,
     "end_time": "2022-02-27T12:41:02.138109",
     "exception": false,
     "start_time": "2022-02-27T12:41:01.781428",
     "status": "completed"
    },
    "tags": []
   },
   "outputs": [
    {
     "data": {
      "text/plain": [
       "<AxesSubplot:>"
      ]
     },
     "execution_count": 17,
     "metadata": {},
     "output_type": "execute_result"
    },
    {
     "data": {
      "image/png": "[encoded data removed]",
      "text/plain": [
       "<Figure size 432x288 with 1 Axes>"
      ]
     },
     "metadata": {
      "needs_background": "light"
     },
     "output_type": "display_data"
    }
   ],
   "source": [
    "data[\"Cholesterol\"].hist(bins=20)"
   ]
  },
  {
   "cell_type": "markdown",
   "id": "8ad4fd7d",
   "metadata": {
    "papermill": {
     "duration": 0.099471,
     "end_time": "2022-02-27T12:41:02.334905",
     "exception": false,
     "start_time": "2022-02-27T12:41:02.235434",
     "status": "completed"
    },
    "tags": []
   },
   "source": [
    "We can see we have some outliers, that have value of 0 which is impossible, which indicates that these observations maybe have missing cholesterol values."
   ]
  },
  {
   "attachments": {
    "3afc6ff0-c29a-499a-b22c-c665ce7c34b8.png": {
     "image/png": "[encoded data removed]"
    }
   },
   "cell_type": "markdown",
   "id": "3ece4ebf",
   "metadata": {
    "papermill": {
     "duration": 0.095473,
     "end_time": "2022-02-27T12:41:02.527762",
     "exception": false,
     "start_time": "2022-02-27T12:41:02.432289",
     "status": "completed"
    },
    "tags": []
   },
   "source": [
    "![chl.png](attachment:3afc6ff0-c29a-499a-b22c-c665ce7c34b8.png)"
   ]
  },
  {
   "cell_type": "markdown",
   "id": "405c934b",
   "metadata": {
    "execution": {
     "iopub.execute_input": "2022-02-22T21:29:16.203584Z",
     "iopub.status.busy": "2022-02-22T21:29:16.203275Z",
     "iopub.status.idle": "2022-02-22T21:29:16.210713Z",
     "shell.execute_reply": "2022-02-22T21:29:16.209286Z",
     "shell.execute_reply.started": "2022-02-22T21:29:16.203549Z"
    },
    "papermill": {
     "duration": 0.097478,
     "end_time": "2022-02-27T12:41:02.723381",
     "exception": false,
     "start_time": "2022-02-27T12:41:02.625903",
     "status": "completed"
    },
    "tags": []
   },
   "source": [
    "The range of serum cholestrol in the previous chart, agrees with our theory that observations with 0 serum cholesterol level are missing. <br>\n",
    "Source: https://www.healthline.com/health/serum-cholesterol#results"
   ]
  },
  {
   "cell_type": "code",
   "execution_count": 18,
   "id": "58d9fdf1",
   "metadata": {
    "execution": {
     "iopub.execute_input": "2022-02-27T12:41:02.926967Z",
     "iopub.status.busy": "2022-02-27T12:41:02.926014Z",
     "iopub.status.idle": "2022-02-27T12:41:02.932110Z",
     "shell.execute_reply": "2022-02-27T12:41:02.932681Z",
     "shell.execute_reply.started": "2022-02-27T12:39:18.401951Z"
    },
    "papermill": {
     "duration": 0.110361,
     "end_time": "2022-02-27T12:41:02.932841",
     "exception": false,
     "start_time": "2022-02-27T12:41:02.822480",
     "status": "completed"
    },
    "tags": []
   },
   "outputs": [],
   "source": [
    "data[\"Cholesterol\"].replace(0, np.nan, inplace=True)\n",
    "data[\"Cholesterol\"].fillna(data[\"Cholesterol\"].mean(), inplace=True)"
   ]
  },
  {
   "cell_type": "markdown",
   "id": "f2a8d9d2",
   "metadata": {
    "papermill": {
     "duration": 0.098386,
     "end_time": "2022-02-27T12:41:03.132167",
     "exception": false,
     "start_time": "2022-02-27T12:41:03.033781",
     "status": "completed"
    },
    "tags": []
   },
   "source": [
    "What about the distribution of the data? To check for it, we will plot the Cholesterol column with a theoritical Normal Distribution ecdf."
   ]
  },
  {
   "cell_type": "code",
   "execution_count": 19,
   "id": "1101c266",
   "metadata": {
    "execution": {
     "iopub.execute_input": "2022-02-27T12:41:03.333152Z",
     "iopub.status.busy": "2022-02-27T12:41:03.332071Z",
     "iopub.status.idle": "2022-02-27T12:41:03.515124Z",
     "shell.execute_reply": "2022-02-27T12:41:03.515732Z",
     "shell.execute_reply.started": "2022-02-27T12:39:18.409304Z"
    },
    "papermill": {
     "duration": 0.286374,
     "end_time": "2022-02-27T12:41:03.515887",
     "exception": false,
     "start_time": "2022-02-27T12:41:03.229513",
     "status": "completed"
    },
    "tags": []
   },
   "outputs": [
    {
     "data": {
      "image/png": "[encoded data removed]",
      "text/plain": [
       "<Figure size 432x288 with 1 Axes>"
      ]
     },
     "metadata": {
      "needs_background": "light"
     },
     "output_type": "display_data"
    }
   ],
   "source": [
    "x, y = ecdf(data[\"Cholesterol\"])\n",
    "samples = np.random.normal(data[\"Cholesterol\"].mean(), data[\"Cholesterol\"].std(), 10000)\n",
    "x_theor, y_theor = ecdf(samples)\n",
    "plt.plot(x_theor, y_theor, color=\"red\")\n",
    "plt.plot(x, y, marker=\".\", linestyle = 'none')\n",
    "plt.show()"
   ]
  },
  {
   "cell_type": "markdown",
   "id": "a6f439df",
   "metadata": {
    "papermill": {
     "duration": 0.100939,
     "end_time": "2022-02-27T12:41:03.716437",
     "exception": false,
     "start_time": "2022-02-27T12:41:03.615498",
     "status": "completed"
    },
    "tags": []
   },
   "source": [
    "As we can see, Cholesterol is normally distributed."
   ]
  },
  {
   "cell_type": "markdown",
   "id": "7189a321",
   "metadata": {
    "papermill": {
     "duration": 0.098552,
     "end_time": "2022-02-27T12:41:03.914247",
     "exception": false,
     "start_time": "2022-02-27T12:41:03.815695",
     "status": "completed"
    },
    "tags": []
   },
   "source": [
    "The same problem occurs in the RestingBP column, I will perform the same steps I did in the Cholesterol column."
   ]
  },
  {
   "cell_type": "code",
   "execution_count": 20,
   "id": "ca3144ed",
   "metadata": {
    "execution": {
     "iopub.execute_input": "2022-02-27T12:41:04.116706Z",
     "iopub.status.busy": "2022-02-27T12:41:04.115651Z",
     "iopub.status.idle": "2022-02-27T12:41:04.281231Z",
     "shell.execute_reply": "2022-02-27T12:41:04.281802Z",
     "shell.execute_reply.started": "2022-02-27T12:39:18.544817Z"
    },
    "papermill": {
     "duration": 0.268328,
     "end_time": "2022-02-27T12:41:04.281973",
     "exception": false,
     "start_time": "2022-02-27T12:41:04.013645",
     "status": "completed"
    },
    "tags": []
   },
   "outputs": [
    {
     "data": {
      "image/png": "[encoded data removed]",
      "text/plain": [
       "<Figure size 432x288 with 1 Axes>"
      ]
     },
     "metadata": {
      "needs_background": "light"
     },
     "output_type": "display_data"
    }
   ],
   "source": [
    "x, y = ecdf(data[\"RestingBP\"])\n",
    "samples1 = np.random.normal(data[\"RestingBP\"].mean(), data[\"RestingBP\"].std(), 10000)\n",
    "x_theor1, y_theor1 = ecdf(samples1)\n",
    "plt.plot(x_theor1, y_theor1, color=\"green\")\n",
    "plt.plot(x, y, marker=\".\", linestyle = 'none')\n",
    "plt.show()"
   ]
  },
  {
   "cell_type": "code",
   "execution_count": 21,
   "id": "ad190300",
   "metadata": {
    "execution": {
     "iopub.execute_input": "2022-02-27T12:41:04.486984Z",
     "iopub.status.busy": "2022-02-27T12:41:04.486079Z",
     "iopub.status.idle": "2022-02-27T12:41:04.723219Z",
     "shell.execute_reply": "2022-02-27T12:41:04.723659Z",
     "shell.execute_reply.started": "2022-02-27T12:39:18.661064Z"
    },
    "papermill": {
     "duration": 0.342198,
     "end_time": "2022-02-27T12:41:04.723837",
     "exception": false,
     "start_time": "2022-02-27T12:41:04.381639",
     "status": "completed"
    },
    "tags": []
   },
   "outputs": [
    {
     "data": {
      "text/plain": [
       "<AxesSubplot:>"
      ]
     },
     "execution_count": 21,
     "metadata": {},
     "output_type": "execute_result"
    },
    {
     "data": {
      "image/png": "[encoded data removed]",
      "text/plain": [
       "<Figure size 432x288 with 1 Axes>"
      ]
     },
     "metadata": {
      "needs_background": "light"
     },
     "output_type": "display_data"
    }
   ],
   "source": [
    "data[\"RestingBP\"].hist(bins=15)"
   ]
  },
  {
   "cell_type": "markdown",
   "id": "607bb102",
   "metadata": {
    "papermill": {
     "duration": 0.099674,
     "end_time": "2022-02-27T12:41:04.925369",
     "exception": false,
     "start_time": "2022-02-27T12:41:04.825695",
     "status": "completed"
    },
    "tags": []
   },
   "source": [
    "Same thing for `RestingBP` column."
   ]
  },
  {
   "cell_type": "code",
   "execution_count": 22,
   "id": "5e888735",
   "metadata": {
    "execution": {
     "iopub.execute_input": "2022-02-27T12:41:05.135892Z",
     "iopub.status.busy": "2022-02-27T12:41:05.134846Z",
     "iopub.status.idle": "2022-02-27T12:41:05.140742Z",
     "shell.execute_reply": "2022-02-27T12:41:05.141347Z",
     "shell.execute_reply.started": "2022-02-27T12:39:18.846661Z"
    },
    "papermill": {
     "duration": 0.113338,
     "end_time": "2022-02-27T12:41:05.141496",
     "exception": false,
     "start_time": "2022-02-27T12:41:05.028158",
     "status": "completed"
    },
    "tags": []
   },
   "outputs": [],
   "source": [
    "data[\"RestingBP\"].replace(0, np.nan, inplace=True)\n",
    "data[\"RestingBP\"].fillna(data[\"RestingBP\"].mean(), inplace=True)"
   ]
  },
  {
   "cell_type": "code",
   "execution_count": 23,
   "id": "ef278758",
   "metadata": {
    "execution": {
     "iopub.execute_input": "2022-02-27T12:41:05.345263Z",
     "iopub.status.busy": "2022-02-27T12:41:05.344343Z",
     "iopub.status.idle": "2022-02-27T12:41:05.543617Z",
     "shell.execute_reply": "2022-02-27T12:41:05.544145Z",
     "shell.execute_reply.started": "2022-02-27T12:39:18.854944Z"
    },
    "papermill": {
     "duration": 0.30248,
     "end_time": "2022-02-27T12:41:05.544322",
     "exception": false,
     "start_time": "2022-02-27T12:41:05.241842",
     "status": "completed"
    },
    "tags": []
   },
   "outputs": [
    {
     "data": {
      "image/png": "[encoded data removed]",
      "text/plain": [
       "<Figure size 432x288 with 1 Axes>"
      ]
     },
     "metadata": {
      "needs_background": "light"
     },
     "output_type": "display_data"
    }
   ],
   "source": [
    "plt.hist(data['RestingBP'], bins = 15)\n",
    "plt.show()"
   ]
  },
  {
   "cell_type": "markdown",
   "id": "d67608af",
   "metadata": {
    "papermill": {
     "duration": 0.101871,
     "end_time": "2022-02-27T12:41:05.747356",
     "exception": false,
     "start_time": "2022-02-27T12:41:05.645485",
     "status": "completed"
    },
    "tags": []
   },
   "source": [
    "Finally, I will use get_dummies function of pandas to convert categorical values to numerical, in order to train a machine learning model."
   ]
  },
  {
   "cell_type": "code",
   "execution_count": 24,
   "id": "28113179",
   "metadata": {
    "execution": {
     "iopub.execute_input": "2022-02-27T12:41:05.954851Z",
     "iopub.status.busy": "2022-02-27T12:41:05.953889Z",
     "iopub.status.idle": "2022-02-27T12:41:05.980509Z",
     "shell.execute_reply": "2022-02-27T12:41:05.981073Z",
     "shell.execute_reply.started": "2022-02-27T12:39:19.025977Z"
    },
    "papermill": {
     "duration": 0.131887,
     "end_time": "2022-02-27T12:41:05.981243",
     "exception": false,
     "start_time": "2022-02-27T12:41:05.849356",
     "status": "completed"
    },
    "tags": []
   },
   "outputs": [
    {
     "data": {
      "text/html": [
       "<div>\n",
       "<style scoped>\n",
       "    .dataframe tbody tr th:only-of-type {\n",
       "        vertical-align: middle;\n",
       "    }\n",
       "\n",
       "    .dataframe tbody tr th {\n",
       "        vertical-align: top;\n",
       "    }\n",
       "\n",
       "    .dataframe thead th {\n",
       "        text-align: right;\n",
       "    }\n",
       "</style>\n",
       "<table border=\"1\" class=\"dataframe\">\n",
       "  <thead>\n",
       "    <tr style=\"text-align: right;\">\n",
       "      <th></th>\n",
       "      <th>Age</th>\n",
       "      <th>RestingBP</th>\n",
       "      <th>Cholesterol</th>\n",
       "      <th>FastingBS</th>\n",
       "      <th>MaxHR</th>\n",
       "      <th>Oldpeak</th>\n",
       "      <th>HeartDisease</th>\n",
       "      <th>ChestPainType_ATA</th>\n",
       "      <th>ChestPainType_NAP</th>\n",
       "      <th>ChestPainType_TA</th>\n",
       "      <th>RestingECG_Normal</th>\n",
       "      <th>RestingECG_ST</th>\n",
       "      <th>ChestPainType_ATA</th>\n",
       "      <th>ChestPainType_NAP</th>\n",
       "      <th>ChestPainType_TA</th>\n",
       "      <th>ST_Slope_Flat</th>\n",
       "      <th>ST_Slope_Up</th>\n",
       "      <th>ExerciseAngina_Y</th>\n",
       "      <th>Sex_M</th>\n",
       "    </tr>\n",
       "  </thead>\n",
       "  <tbody>\n",
       "    <tr>\n",
       "      <th>745</th>\n",
       "      <td>63</td>\n",
       "      <td>108.0</td>\n",
       "      <td>269.000000</td>\n",
       "      <td>0</td>\n",
       "      <td>169</td>\n",
       "      <td>1.8</td>\n",
       "      <td>1</td>\n",
       "      <td>0</td>\n",
       "      <td>0</td>\n",
       "      <td>0</td>\n",
       "      <td>1</td>\n",
       "      <td>0</td>\n",
       "      <td>0</td>\n",
       "      <td>0</td>\n",
       "      <td>0</td>\n",
       "      <td>1</td>\n",
       "      <td>0</td>\n",
       "      <td>1</td>\n",
       "      <td>0</td>\n",
       "    </tr>\n",
       "    <tr>\n",
       "      <th>673</th>\n",
       "      <td>59</td>\n",
       "      <td>174.0</td>\n",
       "      <td>249.000000</td>\n",
       "      <td>0</td>\n",
       "      <td>143</td>\n",
       "      <td>0.0</td>\n",
       "      <td>1</td>\n",
       "      <td>0</td>\n",
       "      <td>0</td>\n",
       "      <td>0</td>\n",
       "      <td>1</td>\n",
       "      <td>0</td>\n",
       "      <td>0</td>\n",
       "      <td>0</td>\n",
       "      <td>0</td>\n",
       "      <td>1</td>\n",
       "      <td>0</td>\n",
       "      <td>1</td>\n",
       "      <td>0</td>\n",
       "    </tr>\n",
       "    <tr>\n",
       "      <th>835</th>\n",
       "      <td>54</td>\n",
       "      <td>110.0</td>\n",
       "      <td>239.000000</td>\n",
       "      <td>0</td>\n",
       "      <td>126</td>\n",
       "      <td>2.8</td>\n",
       "      <td>1</td>\n",
       "      <td>0</td>\n",
       "      <td>0</td>\n",
       "      <td>0</td>\n",
       "      <td>1</td>\n",
       "      <td>0</td>\n",
       "      <td>0</td>\n",
       "      <td>0</td>\n",
       "      <td>0</td>\n",
       "      <td>1</td>\n",
       "      <td>0</td>\n",
       "      <td>1</td>\n",
       "      <td>1</td>\n",
       "    </tr>\n",
       "    <tr>\n",
       "      <th>684</th>\n",
       "      <td>47</td>\n",
       "      <td>108.0</td>\n",
       "      <td>243.000000</td>\n",
       "      <td>0</td>\n",
       "      <td>152</td>\n",
       "      <td>0.0</td>\n",
       "      <td>1</td>\n",
       "      <td>0</td>\n",
       "      <td>1</td>\n",
       "      <td>0</td>\n",
       "      <td>1</td>\n",
       "      <td>0</td>\n",
       "      <td>0</td>\n",
       "      <td>1</td>\n",
       "      <td>0</td>\n",
       "      <td>0</td>\n",
       "      <td>1</td>\n",
       "      <td>0</td>\n",
       "      <td>1</td>\n",
       "    </tr>\n",
       "    <tr>\n",
       "      <th>317</th>\n",
       "      <td>56</td>\n",
       "      <td>140.0</td>\n",
       "      <td>244.635389</td>\n",
       "      <td>1</td>\n",
       "      <td>121</td>\n",
       "      <td>1.8</td>\n",
       "      <td>1</td>\n",
       "      <td>0</td>\n",
       "      <td>0</td>\n",
       "      <td>0</td>\n",
       "      <td>1</td>\n",
       "      <td>0</td>\n",
       "      <td>0</td>\n",
       "      <td>0</td>\n",
       "      <td>0</td>\n",
       "      <td>0</td>\n",
       "      <td>1</td>\n",
       "      <td>1</td>\n",
       "      <td>1</td>\n",
       "    </tr>\n",
       "    <tr>\n",
       "      <th>504</th>\n",
       "      <td>62</td>\n",
       "      <td>158.0</td>\n",
       "      <td>210.000000</td>\n",
       "      <td>1</td>\n",
       "      <td>112</td>\n",
       "      <td>3.0</td>\n",
       "      <td>1</td>\n",
       "      <td>0</td>\n",
       "      <td>0</td>\n",
       "      <td>0</td>\n",
       "      <td>1</td>\n",
       "      <td>0</td>\n",
       "      <td>0</td>\n",
       "      <td>0</td>\n",
       "      <td>0</td>\n",
       "      <td>0</td>\n",
       "      <td>0</td>\n",
       "      <td>1</td>\n",
       "      <td>1</td>\n",
       "    </tr>\n",
       "    <tr>\n",
       "      <th>655</th>\n",
       "      <td>40</td>\n",
       "      <td>152.0</td>\n",
       "      <td>223.000000</td>\n",
       "      <td>0</td>\n",
       "      <td>181</td>\n",
       "      <td>0.0</td>\n",
       "      <td>1</td>\n",
       "      <td>0</td>\n",
       "      <td>0</td>\n",
       "      <td>0</td>\n",
       "      <td>1</td>\n",
       "      <td>0</td>\n",
       "      <td>0</td>\n",
       "      <td>0</td>\n",
       "      <td>0</td>\n",
       "      <td>0</td>\n",
       "      <td>1</td>\n",
       "      <td>0</td>\n",
       "      <td>1</td>\n",
       "    </tr>\n",
       "    <tr>\n",
       "      <th>318</th>\n",
       "      <td>61</td>\n",
       "      <td>130.0</td>\n",
       "      <td>244.635389</td>\n",
       "      <td>1</td>\n",
       "      <td>77</td>\n",
       "      <td>2.5</td>\n",
       "      <td>1</td>\n",
       "      <td>0</td>\n",
       "      <td>0</td>\n",
       "      <td>0</td>\n",
       "      <td>1</td>\n",
       "      <td>0</td>\n",
       "      <td>0</td>\n",
       "      <td>0</td>\n",
       "      <td>0</td>\n",
       "      <td>1</td>\n",
       "      <td>0</td>\n",
       "      <td>0</td>\n",
       "      <td>1</td>\n",
       "    </tr>\n",
       "    <tr>\n",
       "      <th>555</th>\n",
       "      <td>58</td>\n",
       "      <td>150.0</td>\n",
       "      <td>219.000000</td>\n",
       "      <td>0</td>\n",
       "      <td>118</td>\n",
       "      <td>0.0</td>\n",
       "      <td>1</td>\n",
       "      <td>0</td>\n",
       "      <td>1</td>\n",
       "      <td>0</td>\n",
       "      <td>0</td>\n",
       "      <td>1</td>\n",
       "      <td>0</td>\n",
       "      <td>1</td>\n",
       "      <td>0</td>\n",
       "      <td>1</td>\n",
       "      <td>0</td>\n",
       "      <td>1</td>\n",
       "      <td>1</td>\n",
       "    </tr>\n",
       "    <tr>\n",
       "      <th>161</th>\n",
       "      <td>49</td>\n",
       "      <td>128.0</td>\n",
       "      <td>212.000000</td>\n",
       "      <td>0</td>\n",
       "      <td>96</td>\n",
       "      <td>0.0</td>\n",
       "      <td>1</td>\n",
       "      <td>0</td>\n",
       "      <td>0</td>\n",
       "      <td>0</td>\n",
       "      <td>1</td>\n",
       "      <td>0</td>\n",
       "      <td>0</td>\n",
       "      <td>0</td>\n",
       "      <td>0</td>\n",
       "      <td>1</td>\n",
       "      <td>0</td>\n",
       "      <td>1</td>\n",
       "      <td>1</td>\n",
       "    </tr>\n",
       "  </tbody>\n",
       "</table>\n",
       "</div>"
      ],
      "text/plain": [
       "     Age  RestingBP  Cholesterol  FastingBS  MaxHR  Oldpeak  HeartDisease  \\\n",
       "745   63      108.0   269.000000          0    169      1.8             1   \n",
       "673   59      174.0   249.000000          0    143      0.0             1   \n",
       "835   54      110.0   239.000000          0    126      2.8             1   \n",
       "684   47      108.0   243.000000          0    152      0.0             1   \n",
       "317   56      140.0   244.635389          1    121      1.8             1   \n",
       "504   62      158.0   210.000000          1    112      3.0             1   \n",
       "655   40      152.0   223.000000          0    181      0.0             1   \n",
       "318   61      130.0   244.635389          1     77      2.5             1   \n",
       "555   58      150.0   219.000000          0    118      0.0             1   \n",
       "161   49      128.0   212.000000          0     96      0.0             1   \n",
       "\n",
       "     ChestPainType_ATA  ChestPainType_NAP  ChestPainType_TA  \\\n",
       "745                  0                  0                 0   \n",
       "673                  0                  0                 0   \n",
       "835                  0                  0                 0   \n",
       "684                  0                  1                 0   \n",
       "317                  0                  0                 0   \n",
       "504                  0                  0                 0   \n",
       "655                  0                  0                 0   \n",
       "318                  0                  0                 0   \n",
       "555                  0                  1                 0   \n",
       "161                  0                  0                 0   \n",
       "\n",
       "     RestingECG_Normal  RestingECG_ST  ChestPainType_ATA  ChestPainType_NAP  \\\n",
       "745                  1              0                  0                  0   \n",
       "673                  1              0                  0                  0   \n",
       "835                  1              0                  0                  0   \n",
       "684                  1              0                  0                  1   \n",
       "317                  1              0                  0                  0   \n",
       "504                  1              0                  0                  0   \n",
       "655                  1              0                  0                  0   \n",
       "318                  1              0                  0                  0   \n",
       "555                  0              1                  0                  1   \n",
       "161                  1              0                  0                  0   \n",
       "\n",
       "     ChestPainType_TA  ST_Slope_Flat  ST_Slope_Up  ExerciseAngina_Y  Sex_M  \n",
       "745                 0              1            0                 1      0  \n",
       "673                 0              1            0                 1      0  \n",
       "835                 0              1            0                 1      1  \n",
       "684                 0              0            1                 0      1  \n",
       "317                 0              0            1                 1      1  \n",
       "504                 0              0            0                 1      1  \n",
       "655                 0              0            1                 0      1  \n",
       "318                 0              1            0                 0      1  \n",
       "555                 0              1            0                 1      1  \n",
       "161                 0              1            0                 1      1  "
      ]
     },
     "execution_count": 24,
     "metadata": {},
     "output_type": "execute_result"
    }
   ],
   "source": [
    "data = pd.get_dummies(data, drop_first=True, columns=categories)\n",
    "data.sample(10)"
   ]
  },
  {
   "cell_type": "markdown",
   "id": "7882a0bd",
   "metadata": {
    "papermill": {
     "duration": 0.101698,
     "end_time": "2022-02-27T12:41:06.186723",
     "exception": false,
     "start_time": "2022-02-27T12:41:06.085025",
     "status": "completed"
    },
    "tags": []
   },
   "source": [
    "Drop the target values from the dataset."
   ]
  },
  {
   "cell_type": "code",
   "execution_count": 25,
   "id": "028f5df7",
   "metadata": {
    "execution": {
     "iopub.execute_input": "2022-02-27T12:41:06.396947Z",
     "iopub.status.busy": "2022-02-27T12:41:06.395950Z",
     "iopub.status.idle": "2022-02-27T12:41:06.405056Z",
     "shell.execute_reply": "2022-02-27T12:41:06.405639Z",
     "shell.execute_reply.started": "2022-02-27T12:39:19.058395Z"
    },
    "papermill": {
     "duration": 0.11465,
     "end_time": "2022-02-27T12:41:06.405809",
     "exception": false,
     "start_time": "2022-02-27T12:41:06.291159",
     "status": "completed"
    },
    "tags": []
   },
   "outputs": [],
   "source": [
    "target= data['HeartDisease']\n",
    "data.drop(columns=['HeartDisease'], inplace=True)"
   ]
  },
  {
   "cell_type": "markdown",
   "id": "049f8a7d",
   "metadata": {
    "papermill": {
     "duration": 0.102265,
     "end_time": "2022-02-27T12:41:06.609995",
     "exception": false,
     "start_time": "2022-02-27T12:41:06.507730",
     "status": "completed"
    },
    "tags": []
   },
   "source": [
    "### Principal Component Analysis (PCA)"
   ]
  },
  {
   "cell_type": "markdown",
   "id": "6fe60f87",
   "metadata": {
    "papermill": {
     "duration": 0.102866,
     "end_time": "2022-02-27T12:41:06.815829",
     "exception": false,
     "start_time": "2022-02-27T12:41:06.712963",
     "status": "completed"
    },
    "tags": []
   },
   "source": [
    "Before performing PCA, we will have to check for number of components we will have to keep, I will be keeping the components with significant variance in the data. "
   ]
  },
  {
   "cell_type": "code",
   "execution_count": 26,
   "id": "bedcb7a2",
   "metadata": {
    "execution": {
     "iopub.execute_input": "2022-02-27T12:41:07.033506Z",
     "iopub.status.busy": "2022-02-27T12:41:07.032734Z",
     "iopub.status.idle": "2022-02-27T12:41:07.579143Z",
     "shell.execute_reply": "2022-02-27T12:41:07.579686Z",
     "shell.execute_reply.started": "2022-02-27T12:39:19.071246Z"
    },
    "papermill": {
     "duration": 0.659399,
     "end_time": "2022-02-27T12:41:07.579860",
     "exception": false,
     "start_time": "2022-02-27T12:41:06.920461",
     "status": "completed"
    },
    "tags": []
   },
   "outputs": [
    {
     "data": {
      "image/png": "[encoded data removed]",
      "text/plain": [
       "<Figure size 432x288 with 1 Axes>"
      ]
     },
     "metadata": {
      "needs_background": "light"
     },
     "output_type": "display_data"
    }
   ],
   "source": [
    "from sklearn.decomposition import PCA\n",
    "from sklearn.preprocessing import StandardScaler\n",
    "from sklearn.pipeline import make_pipeline\n",
    "\n",
    "scaler = StandardScaler()\n",
    "\n",
    "pca = PCA()\n",
    "\n",
    "pipeline = make_pipeline(scaler, pca)\n",
    "\n",
    "pipeline.fit(data)\n",
    "\n",
    "features = range(pca.n_components_)\n",
    "plt.bar(features, pca.explained_variance_)\n",
    "plt.xlabel('PCA feature')\n",
    "plt.ylabel('variance')\n",
    "plt.xticks(features)\n",
    "plt.show()\n"
   ]
  },
  {
   "cell_type": "markdown",
   "id": "1444332b",
   "metadata": {
    "execution": {
     "iopub.execute_input": "2022-02-26T21:15:15.776596Z",
     "iopub.status.busy": "2022-02-26T21:15:15.776260Z",
     "iopub.status.idle": "2022-02-26T21:15:15.783848Z",
     "shell.execute_reply": "2022-02-26T21:15:15.782522Z",
     "shell.execute_reply.started": "2022-02-26T21:15:15.776564Z"
    },
    "papermill": {
     "duration": 0.107126,
     "end_time": "2022-02-27T12:41:07.791717",
     "exception": false,
     "start_time": "2022-02-27T12:41:07.684591",
     "status": "completed"
    },
    "tags": []
   },
   "source": [
    "In this case we can go with eaither 4 components or 5, both vary significantly."
   ]
  },
  {
   "cell_type": "markdown",
   "id": "082a2bd7",
   "metadata": {
    "papermill": {
     "duration": 0.105153,
     "end_time": "2022-02-27T12:41:08.003660",
     "exception": false,
     "start_time": "2022-02-27T12:41:07.898507",
     "status": "completed"
    },
    "tags": []
   },
   "source": [
    "### Data Scaling"
   ]
  },
  {
   "cell_type": "markdown",
   "id": "dd1a4e75",
   "metadata": {
    "papermill": {
     "duration": 0.1038,
     "end_time": "2022-02-27T12:41:08.211962",
     "exception": false,
     "start_time": "2022-02-27T12:41:08.108162",
     "status": "completed"
    },
    "tags": []
   },
   "source": [
    "As a last step of the pre processing, I will be using StandardScaler of sklearn to standarize data, since some algorithms such as KNN use distance to predict the class of an observation. (Other methods that don't use distance such as Decision trees, RandomForest ...etc, do not need standrazition)"
   ]
  },
  {
   "cell_type": "code",
   "execution_count": 27,
   "id": "cefbd426",
   "metadata": {
    "execution": {
     "iopub.execute_input": "2022-02-27T12:41:08.424387Z",
     "iopub.status.busy": "2022-02-27T12:41:08.423710Z",
     "iopub.status.idle": "2022-02-27T12:41:08.446017Z",
     "shell.execute_reply": "2022-02-27T12:41:08.445405Z",
     "shell.execute_reply.started": "2022-02-27T12:39:19.668987Z"
    },
    "papermill": {
     "duration": 0.131696,
     "end_time": "2022-02-27T12:41:08.446162",
     "exception": false,
     "start_time": "2022-02-27T12:41:08.314466",
     "status": "completed"
    },
    "tags": []
   },
   "outputs": [
    {
     "data": {
      "text/html": [
       "<div>\n",
       "<style scoped>\n",
       "    .dataframe tbody tr th:only-of-type {\n",
       "        vertical-align: middle;\n",
       "    }\n",
       "\n",
       "    .dataframe tbody tr th {\n",
       "        vertical-align: top;\n",
       "    }\n",
       "\n",
       "    .dataframe thead th {\n",
       "        text-align: right;\n",
       "    }\n",
       "</style>\n",
       "<table border=\"1\" class=\"dataframe\">\n",
       "  <thead>\n",
       "    <tr style=\"text-align: right;\">\n",
       "      <th></th>\n",
       "      <th>Age</th>\n",
       "      <th>RestingBP</th>\n",
       "      <th>Cholesterol</th>\n",
       "      <th>FastingBS</th>\n",
       "      <th>MaxHR</th>\n",
       "      <th>Oldpeak</th>\n",
       "      <th>ChestPainType_ATA</th>\n",
       "      <th>ChestPainType_NAP</th>\n",
       "      <th>ChestPainType_TA</th>\n",
       "      <th>RestingECG_Normal</th>\n",
       "      <th>RestingECG_ST</th>\n",
       "      <th>ChestPainType_ATA</th>\n",
       "      <th>ChestPainType_NAP</th>\n",
       "      <th>ChestPainType_TA</th>\n",
       "      <th>ST_Slope_Flat</th>\n",
       "      <th>ST_Slope_Up</th>\n",
       "      <th>ExerciseAngina_Y</th>\n",
       "      <th>Sex_M</th>\n",
       "    </tr>\n",
       "  </thead>\n",
       "  <tbody>\n",
       "    <tr>\n",
       "      <th>0</th>\n",
       "      <td>-1.433140</td>\n",
       "      <td>0.414853</td>\n",
       "      <td>0.832529</td>\n",
       "      <td>-0.551341</td>\n",
       "      <td>1.382928</td>\n",
       "      <td>-0.832432</td>\n",
       "      <td>2.075177</td>\n",
       "      <td>-0.532838</td>\n",
       "      <td>-0.229679</td>\n",
       "      <td>0.814275</td>\n",
       "      <td>-0.490449</td>\n",
       "      <td>2.075177</td>\n",
       "      <td>-0.532838</td>\n",
       "      <td>-0.229679</td>\n",
       "      <td>-1.002181</td>\n",
       "      <td>1.150674</td>\n",
       "      <td>-0.823556</td>\n",
       "      <td>0.515952</td>\n",
       "    </tr>\n",
       "    <tr>\n",
       "      <th>1</th>\n",
       "      <td>-0.478484</td>\n",
       "      <td>1.527192</td>\n",
       "      <td>-1.212922</td>\n",
       "      <td>-0.551341</td>\n",
       "      <td>0.754157</td>\n",
       "      <td>0.105664</td>\n",
       "      <td>-0.481887</td>\n",
       "      <td>1.876744</td>\n",
       "      <td>-0.229679</td>\n",
       "      <td>0.814275</td>\n",
       "      <td>-0.490449</td>\n",
       "      <td>-0.481887</td>\n",
       "      <td>1.876744</td>\n",
       "      <td>-0.229679</td>\n",
       "      <td>0.997824</td>\n",
       "      <td>-0.869056</td>\n",
       "      <td>-0.823556</td>\n",
       "      <td>-1.938163</td>\n",
       "    </tr>\n",
       "    <tr>\n",
       "      <th>2</th>\n",
       "      <td>-1.751359</td>\n",
       "      <td>-0.141317</td>\n",
       "      <td>0.719935</td>\n",
       "      <td>-0.551341</td>\n",
       "      <td>-1.525138</td>\n",
       "      <td>-0.832432</td>\n",
       "      <td>2.075177</td>\n",
       "      <td>-0.532838</td>\n",
       "      <td>-0.229679</td>\n",
       "      <td>-1.228087</td>\n",
       "      <td>2.038947</td>\n",
       "      <td>2.075177</td>\n",
       "      <td>-0.532838</td>\n",
       "      <td>-0.229679</td>\n",
       "      <td>-1.002181</td>\n",
       "      <td>1.150674</td>\n",
       "      <td>-0.823556</td>\n",
       "      <td>0.515952</td>\n",
       "    </tr>\n",
       "    <tr>\n",
       "      <th>3</th>\n",
       "      <td>-0.584556</td>\n",
       "      <td>0.303619</td>\n",
       "      <td>-0.574892</td>\n",
       "      <td>-0.551341</td>\n",
       "      <td>-1.132156</td>\n",
       "      <td>0.574711</td>\n",
       "      <td>-0.481887</td>\n",
       "      <td>-0.532838</td>\n",
       "      <td>-0.229679</td>\n",
       "      <td>0.814275</td>\n",
       "      <td>-0.490449</td>\n",
       "      <td>-0.481887</td>\n",
       "      <td>-0.532838</td>\n",
       "      <td>-0.229679</td>\n",
       "      <td>0.997824</td>\n",
       "      <td>-0.869056</td>\n",
       "      <td>1.214246</td>\n",
       "      <td>-1.938163</td>\n",
       "    </tr>\n",
       "    <tr>\n",
       "      <th>4</th>\n",
       "      <td>0.051881</td>\n",
       "      <td>0.971022</td>\n",
       "      <td>-0.931438</td>\n",
       "      <td>-0.551341</td>\n",
       "      <td>-0.581981</td>\n",
       "      <td>-0.832432</td>\n",
       "      <td>-0.481887</td>\n",
       "      <td>1.876744</td>\n",
       "      <td>-0.229679</td>\n",
       "      <td>0.814275</td>\n",
       "      <td>-0.490449</td>\n",
       "      <td>-0.481887</td>\n",
       "      <td>1.876744</td>\n",
       "      <td>-0.229679</td>\n",
       "      <td>-1.002181</td>\n",
       "      <td>1.150674</td>\n",
       "      <td>-0.823556</td>\n",
       "      <td>0.515952</td>\n",
       "    </tr>\n",
       "  </tbody>\n",
       "</table>\n",
       "</div>"
      ],
      "text/plain": [
       "        Age  RestingBP  Cholesterol  FastingBS     MaxHR   Oldpeak  \\\n",
       "0 -1.433140   0.414853     0.832529  -0.551341  1.382928 -0.832432   \n",
       "1 -0.478484   1.527192    -1.212922  -0.551341  0.754157  0.105664   \n",
       "2 -1.751359  -0.141317     0.719935  -0.551341 -1.525138 -0.832432   \n",
       "3 -0.584556   0.303619    -0.574892  -0.551341 -1.132156  0.574711   \n",
       "4  0.051881   0.971022    -0.931438  -0.551341 -0.581981 -0.832432   \n",
       "\n",
       "   ChestPainType_ATA  ChestPainType_NAP  ChestPainType_TA  RestingECG_Normal  \\\n",
       "0           2.075177          -0.532838         -0.229679           0.814275   \n",
       "1          -0.481887           1.876744         -0.229679           0.814275   \n",
       "2           2.075177          -0.532838         -0.229679          -1.228087   \n",
       "3          -0.481887          -0.532838         -0.229679           0.814275   \n",
       "4          -0.481887           1.876744         -0.229679           0.814275   \n",
       "\n",
       "   RestingECG_ST  ChestPainType_ATA  ChestPainType_NAP  ChestPainType_TA  \\\n",
       "0      -0.490449           2.075177          -0.532838         -0.229679   \n",
       "1      -0.490449          -0.481887           1.876744         -0.229679   \n",
       "2       2.038947           2.075177          -0.532838         -0.229679   \n",
       "3      -0.490449          -0.481887          -0.532838         -0.229679   \n",
       "4      -0.490449          -0.481887           1.876744         -0.229679   \n",
       "\n",
       "   ST_Slope_Flat  ST_Slope_Up  ExerciseAngina_Y     Sex_M  \n",
       "0      -1.002181     1.150674         -0.823556  0.515952  \n",
       "1       0.997824    -0.869056         -0.823556 -1.938163  \n",
       "2      -1.002181     1.150674         -0.823556  0.515952  \n",
       "3       0.997824    -0.869056          1.214246 -1.938163  \n",
       "4      -1.002181     1.150674         -0.823556  0.515952  "
      ]
     },
     "execution_count": 27,
     "metadata": {},
     "output_type": "execute_result"
    }
   ],
   "source": [
    "scaled = scaler.fit_transform(data)\n",
    "scaled = pd.DataFrame(scaled, columns = data.columns)\n",
    "scaled.head()"
   ]
  },
  {
   "cell_type": "markdown",
   "id": "ea5717d5",
   "metadata": {
    "papermill": {
     "duration": 0.105399,
     "end_time": "2022-02-27T12:41:08.657541",
     "exception": false,
     "start_time": "2022-02-27T12:41:08.552142",
     "status": "completed"
    },
    "tags": []
   },
   "source": [
    "Now, I will be applying PCA on the obtained data"
   ]
  },
  {
   "cell_type": "code",
   "execution_count": 28,
   "id": "cfcbe1b5",
   "metadata": {
    "execution": {
     "iopub.execute_input": "2022-02-27T12:41:08.878725Z",
     "iopub.status.busy": "2022-02-27T12:41:08.877553Z",
     "iopub.status.idle": "2022-02-27T12:41:08.892536Z",
     "shell.execute_reply": "2022-02-27T12:41:08.893466Z",
     "shell.execute_reply.started": "2022-02-27T12:39:19.695083Z"
    },
    "papermill": {
     "duration": 0.130339,
     "end_time": "2022-02-27T12:41:08.893743",
     "exception": false,
     "start_time": "2022-02-27T12:41:08.763404",
     "status": "completed"
    },
    "tags": []
   },
   "outputs": [
    {
     "name": "stdout",
     "output_type": "stream",
     "text": [
      "(918, 5)\n"
     ]
    }
   ],
   "source": [
    "pca = PCA(n_components = 5)\n",
    "pca.fit(scaled)\n",
    "pca_features = pca.transform(scaled)\n",
    "print(pca_features.shape)"
   ]
  },
  {
   "cell_type": "markdown",
   "id": "8d6af705",
   "metadata": {
    "papermill": {
     "duration": 0.106215,
     "end_time": "2022-02-27T12:41:09.158516",
     "exception": false,
     "start_time": "2022-02-27T12:41:09.052301",
     "status": "completed"
    },
    "tags": []
   },
   "source": [
    "# Model Building"
   ]
  },
  {
   "cell_type": "markdown",
   "id": "a9db8ca3",
   "metadata": {
    "papermill": {
     "duration": 0.109074,
     "end_time": "2022-02-27T12:41:09.373790",
     "exception": false,
     "start_time": "2022-02-27T12:41:09.264716",
     "status": "completed"
    },
    "tags": []
   },
   "source": [
    "Lets import all the classifiers I will test on the data, but as a base model, I will use KNearestNeighbours, then compare its results with other classifiers."
   ]
  },
  {
   "cell_type": "code",
   "execution_count": 29,
   "id": "5021394e",
   "metadata": {
    "execution": {
     "iopub.execute_input": "2022-02-27T12:41:09.591900Z",
     "iopub.status.busy": "2022-02-27T12:41:09.590988Z",
     "iopub.status.idle": "2022-02-27T12:41:09.667297Z",
     "shell.execute_reply": "2022-02-27T12:41:09.667902Z",
     "shell.execute_reply.started": "2022-02-27T12:39:19.716823Z"
    },
    "papermill": {
     "duration": 0.189157,
     "end_time": "2022-02-27T12:41:09.668090",
     "exception": false,
     "start_time": "2022-02-27T12:41:09.478933",
     "status": "completed"
    },
    "tags": []
   },
   "outputs": [],
   "source": [
    "from sklearn import svm\n",
    "from sklearn.linear_model import LogisticRegression\n",
    "from sklearn.ensemble import RandomForestClassifier\n",
    "from sklearn.neighbors import KNeighborsClassifier\n",
    "from sklearn.ensemble import GradientBoostingClassifier, AdaBoostClassifier\n",
    "from sklearn.neighbors import KNeighborsClassifier as KNN\n",
    "from sklearn.model_selection import KFold, cross_val_score, GridSearchCV\n",
    "from sklearn.metrics import recall_score, confusion_matrix, accuracy_score, classification_report, f1_score, roc_auc_score"
   ]
  },
  {
   "cell_type": "markdown",
   "id": "a9a5c2e3",
   "metadata": {
    "execution": {
     "iopub.execute_input": "2022-02-26T21:29:34.751533Z",
     "iopub.status.busy": "2022-02-26T21:29:34.751175Z",
     "iopub.status.idle": "2022-02-26T21:29:34.756687Z",
     "shell.execute_reply": "2022-02-26T21:29:34.755992Z",
     "shell.execute_reply.started": "2022-02-26T21:29:34.751500Z"
    },
    "papermill": {
     "duration": 0.106149,
     "end_time": "2022-02-27T12:41:09.881797",
     "exception": false,
     "start_time": "2022-02-27T12:41:09.775648",
     "status": "completed"
    },
    "tags": []
   },
   "source": [
    "## K-Nearest Neighbours"
   ]
  },
  {
   "cell_type": "markdown",
   "id": "3244409f",
   "metadata": {
    "papermill": {
     "duration": 0.10636,
     "end_time": "2022-02-27T12:41:10.093339",
     "exception": false,
     "start_time": "2022-02-27T12:41:09.986979",
     "status": "completed"
    },
    "tags": []
   },
   "source": [
    "The first step in model building, is splitting data to training set, and test set."
   ]
  },
  {
   "cell_type": "markdown",
   "id": "9624e2b6",
   "metadata": {
    "papermill": {
     "duration": 0.105394,
     "end_time": "2022-02-27T12:41:10.304026",
     "exception": false,
     "start_time": "2022-02-27T12:41:10.198632",
     "status": "completed"
    },
    "tags": []
   },
   "source": [
    "### Data splitting"
   ]
  },
  {
   "cell_type": "code",
   "execution_count": 30,
   "id": "435a2a52",
   "metadata": {
    "execution": {
     "iopub.execute_input": "2022-02-27T12:41:10.518453Z",
     "iopub.status.busy": "2022-02-27T12:41:10.516479Z",
     "iopub.status.idle": "2022-02-27T12:41:10.520241Z",
     "shell.execute_reply": "2022-02-27T12:41:10.520841Z",
     "shell.execute_reply.started": "2022-02-27T12:39:19.821091Z"
    },
    "papermill": {
     "duration": 0.112068,
     "end_time": "2022-02-27T12:41:10.520988",
     "exception": false,
     "start_time": "2022-02-27T12:41:10.408920",
     "status": "completed"
    },
    "tags": []
   },
   "outputs": [],
   "source": [
    "from sklearn.model_selection import train_test_split"
   ]
  },
  {
   "cell_type": "code",
   "execution_count": 31,
   "id": "aace06e7",
   "metadata": {
    "execution": {
     "iopub.execute_input": "2022-02-27T12:41:10.734963Z",
     "iopub.status.busy": "2022-02-27T12:41:10.734249Z",
     "iopub.status.idle": "2022-02-27T12:41:10.739170Z",
     "shell.execute_reply": "2022-02-27T12:41:10.739716Z",
     "shell.execute_reply.started": "2022-02-27T12:39:19.826948Z"
    },
    "papermill": {
     "duration": 0.113496,
     "end_time": "2022-02-27T12:41:10.739872",
     "exception": false,
     "start_time": "2022-02-27T12:41:10.626376",
     "status": "completed"
    },
    "tags": []
   },
   "outputs": [],
   "source": [
    "X_train, X_test, y_train, y_test =train_test_split(pca_features, target,test_size=0.3, random_state=17) "
   ]
  },
  {
   "cell_type": "markdown",
   "id": "54d903c0",
   "metadata": {
    "papermill": {
     "duration": 0.106905,
     "end_time": "2022-02-27T12:41:10.953513",
     "exception": false,
     "start_time": "2022-02-27T12:41:10.846608",
     "status": "completed"
    },
    "tags": []
   },
   "source": [
    "### Hyper parameter tunning using GridSearchCV"
   ]
  },
  {
   "cell_type": "markdown",
   "id": "c6e800f3",
   "metadata": {
    "papermill": {
     "duration": 0.105979,
     "end_time": "2022-02-27T12:41:11.165756",
     "exception": false,
     "start_time": "2022-02-27T12:41:11.059777",
     "status": "completed"
    },
    "tags": []
   },
   "source": [
    "I will be tuning the K h-parameter of the classifier, also the p h-parameter which indicates which distance measure to use(Manhattan is used by default)"
   ]
  },
  {
   "cell_type": "code",
   "execution_count": 32,
   "id": "df4738ed",
   "metadata": {
    "execution": {
     "iopub.execute_input": "2022-02-27T12:41:11.388339Z",
     "iopub.status.busy": "2022-02-27T12:41:11.387666Z",
     "iopub.status.idle": "2022-02-27T12:41:11.392841Z",
     "shell.execute_reply": "2022-02-27T12:41:11.393451Z",
     "shell.execute_reply.started": "2022-02-27T12:39:19.846649Z"
    },
    "papermill": {
     "duration": 0.122277,
     "end_time": "2022-02-27T12:41:11.393655",
     "exception": false,
     "start_time": "2022-02-27T12:41:11.271378",
     "status": "completed"
    },
    "tags": []
   },
   "outputs": [
    {
     "data": {
      "text/plain": [
       "{'n_neighbors': range(2, 15), 'p': range(1, 7)}"
      ]
     },
     "execution_count": 32,
     "metadata": {},
     "output_type": "execute_result"
    }
   ],
   "source": [
    "params={'n_neighbors': range(2,15), 'p' : range(1,7)}\n",
    "params"
   ]
  },
  {
   "cell_type": "code",
   "execution_count": 33,
   "id": "9290f08e",
   "metadata": {
    "execution": {
     "iopub.execute_input": "2022-02-27T12:41:11.615412Z",
     "iopub.status.busy": "2022-02-27T12:41:11.614692Z",
     "iopub.status.idle": "2022-02-27T12:41:15.123453Z",
     "shell.execute_reply": "2022-02-27T12:41:15.123973Z",
     "shell.execute_reply.started": "2022-02-27T12:39:19.861780Z"
    },
    "papermill": {
     "duration": 3.620117,
     "end_time": "2022-02-27T12:41:15.124138",
     "exception": false,
     "start_time": "2022-02-27T12:41:11.504021",
     "status": "completed"
    },
    "tags": []
   },
   "outputs": [
    {
     "data": {
      "text/plain": [
       "GridSearchCV(cv=3, estimator=KNeighborsClassifier(),\n",
       "             param_grid={'n_neighbors': range(2, 15), 'p': range(1, 7)},\n",
       "             scoring='recall')"
      ]
     },
     "execution_count": 33,
     "metadata": {},
     "output_type": "execute_result"
    }
   ],
   "source": [
    "KNN_grid = GridSearchCV(KNN(), params, cv=3, scoring='recall')\n",
    "KNN_grid.fit(X_train, y_train)"
   ]
  },
  {
   "cell_type": "code",
   "execution_count": 34,
   "id": "d78b8613",
   "metadata": {
    "execution": {
     "iopub.execute_input": "2022-02-27T12:41:15.343115Z",
     "iopub.status.busy": "2022-02-27T12:41:15.342527Z",
     "iopub.status.idle": "2022-02-27T12:41:15.348129Z",
     "shell.execute_reply": "2022-02-27T12:41:15.348632Z",
     "shell.execute_reply.started": "2022-02-27T12:39:22.631226Z"
    },
    "papermill": {
     "duration": 0.115762,
     "end_time": "2022-02-27T12:41:15.348778",
     "exception": false,
     "start_time": "2022-02-27T12:41:15.233016",
     "status": "completed"
    },
    "tags": []
   },
   "outputs": [
    {
     "name": "stdout",
     "output_type": "stream",
     "text": [
      "Best estimator: KNeighborsClassifier(n_neighbors=9, p=3)\n",
      "Best score: 0.8847491306507701\n"
     ]
    }
   ],
   "source": [
    "print(\"Best estimator:\",KNN_grid.best_estimator_)\n",
    "print(\"Best score:\", KNN_grid.best_score_)"
   ]
  },
  {
   "cell_type": "markdown",
   "id": "0775ea04",
   "metadata": {
    "papermill": {
     "duration": 0.104828,
     "end_time": "2022-02-27T12:41:15.559253",
     "exception": false,
     "start_time": "2022-02-27T12:41:15.454425",
     "status": "completed"
    },
    "tags": []
   },
   "source": [
    "Well, we can see that the best K is 9, and best p is 3. Which we will be using to train our model."
   ]
  },
  {
   "cell_type": "markdown",
   "id": "80604a4f",
   "metadata": {
    "papermill": {
     "duration": 0.105048,
     "end_time": "2022-02-27T12:41:15.769504",
     "exception": false,
     "start_time": "2022-02-27T12:41:15.664456",
     "status": "completed"
    },
    "tags": []
   },
   "source": [
    "### Fitting the KNN model"
   ]
  },
  {
   "cell_type": "code",
   "execution_count": 35,
   "id": "209c057f",
   "metadata": {
    "execution": {
     "iopub.execute_input": "2022-02-27T12:41:15.987323Z",
     "iopub.status.busy": "2022-02-27T12:41:15.986388Z",
     "iopub.status.idle": "2022-02-27T12:41:15.993572Z",
     "shell.execute_reply": "2022-02-27T12:41:15.994175Z",
     "shell.execute_reply.started": "2022-02-27T12:39:22.638298Z"
    },
    "papermill": {
     "duration": 0.118609,
     "end_time": "2022-02-27T12:41:15.994349",
     "exception": false,
     "start_time": "2022-02-27T12:41:15.875740",
     "status": "completed"
    },
    "tags": []
   },
   "outputs": [
    {
     "data": {
      "text/plain": [
       "KNeighborsClassifier(n_neighbors=9, p=3)"
      ]
     },
     "execution_count": 35,
     "metadata": {},
     "output_type": "execute_result"
    }
   ],
   "source": [
    "model=KNN(n_neighbors=9, p=3)\n",
    "model.fit(X_train,y_train)"
   ]
  },
  {
   "cell_type": "code",
   "execution_count": 36,
   "id": "489bba16",
   "metadata": {
    "execution": {
     "iopub.execute_input": "2022-02-27T12:41:16.210870Z",
     "iopub.status.busy": "2022-02-27T12:41:16.209929Z",
     "iopub.status.idle": "2022-02-27T12:41:16.232766Z",
     "shell.execute_reply": "2022-02-27T12:41:16.233248Z",
     "shell.execute_reply.started": "2022-02-27T12:39:22.655437Z"
    },
    "papermill": {
     "duration": 0.132325,
     "end_time": "2022-02-27T12:41:16.233428",
     "exception": false,
     "start_time": "2022-02-27T12:41:16.101103",
     "status": "completed"
    },
    "tags": []
   },
   "outputs": [],
   "source": [
    "y_pred = model.predict(X_test)"
   ]
  },
  {
   "cell_type": "markdown",
   "id": "f069757c",
   "metadata": {
    "papermill": {
     "duration": 0.105646,
     "end_time": "2022-02-27T12:41:16.444483",
     "exception": false,
     "start_time": "2022-02-27T12:41:16.338837",
     "status": "completed"
    },
    "tags": []
   },
   "source": [
    "### Results"
   ]
  },
  {
   "cell_type": "code",
   "execution_count": 37,
   "id": "f40a7ef6",
   "metadata": {
    "execution": {
     "iopub.execute_input": "2022-02-27T12:41:16.659757Z",
     "iopub.status.busy": "2022-02-27T12:41:16.658805Z",
     "iopub.status.idle": "2022-02-27T12:41:16.669866Z",
     "shell.execute_reply": "2022-02-27T12:41:16.670561Z",
     "shell.execute_reply.started": "2022-02-27T12:39:22.693647Z"
    },
    "papermill": {
     "duration": 0.121148,
     "end_time": "2022-02-27T12:41:16.670785",
     "exception": false,
     "start_time": "2022-02-27T12:41:16.549637",
     "status": "completed"
    },
    "tags": []
   },
   "outputs": [
    {
     "name": "stdout",
     "output_type": "stream",
     "text": [
      "Recall score | 0.8888888888888888\n",
      "Accuracy score | 0.8514492753623188\n",
      "F1-score | 0.8619528619528619\n",
      "Area under curve score |  0.8497474747474746\n"
     ]
    }
   ],
   "source": [
    "print(\"Recall score |\", recall_score(y_test, y_pred))\n",
    "print(\"Accuracy score |\", accuracy_score(y_test, y_pred))\n",
    "print(\"F1-score |\", f1_score(y_test, y_pred))\n",
    "print(\"Area under curve score | \", roc_auc_score(y_test, y_pred))"
   ]
  },
  {
   "cell_type": "markdown",
   "id": "6531a893",
   "metadata": {
    "papermill": {
     "duration": 0.110724,
     "end_time": "2022-02-27T12:41:16.890811",
     "exception": false,
     "start_time": "2022-02-27T12:41:16.780087",
     "status": "completed"
    },
    "tags": []
   },
   "source": [
    "### Confusion matrix:"
   ]
  },
  {
   "cell_type": "code",
   "execution_count": 38,
   "id": "c78138de",
   "metadata": {
    "execution": {
     "iopub.execute_input": "2022-02-27T12:41:17.112877Z",
     "iopub.status.busy": "2022-02-27T12:41:17.110522Z",
     "iopub.status.idle": "2022-02-27T12:41:17.115925Z",
     "shell.execute_reply": "2022-02-27T12:41:17.116426Z",
     "shell.execute_reply.started": "2022-02-27T12:39:22.708023Z"
    },
    "papermill": {
     "duration": 0.117301,
     "end_time": "2022-02-27T12:41:17.116591",
     "exception": false,
     "start_time": "2022-02-27T12:41:16.999290",
     "status": "completed"
    },
    "tags": []
   },
   "outputs": [],
   "source": [
    "cm = confusion_matrix(y_test, y_pred)"
   ]
  },
  {
   "cell_type": "code",
   "execution_count": 39,
   "id": "74928f2c",
   "metadata": {
    "execution": {
     "iopub.execute_input": "2022-02-27T12:41:17.357644Z",
     "iopub.status.busy": "2022-02-27T12:41:17.356995Z",
     "iopub.status.idle": "2022-02-27T12:41:17.467263Z",
     "shell.execute_reply": "2022-02-27T12:41:17.466345Z",
     "shell.execute_reply.started": "2022-02-27T12:39:22.717390Z"
    },
    "papermill": {
     "duration": 0.243458,
     "end_time": "2022-02-27T12:41:17.467584",
     "exception": false,
     "start_time": "2022-02-27T12:41:17.224126",
     "status": "completed"
    },
    "tags": []
   },
   "outputs": [
    {
     "data": {
      "image/png": "[encoded data removed]",
      "text/plain": [
       "<Figure size 432x288 with 1 Axes>"
      ]
     },
     "metadata": {
      "needs_background": "light"
     },
     "output_type": "display_data"
    }
   ],
   "source": [
    "plt.imshow(cm, interpolation='nearest', cmap=plt.cm.Pastel1)\n",
    "classes = [0, 1]\n",
    "plt.ylabel('Real label')\n",
    "plt.xlabel('Predicted label')\n",
    "plt.xticks(classes)\n",
    "plt.yticks(classes)\n",
    "plt.title(\"Confusion Matrix\")\n",
    "for i in range(2):\n",
    "    for j in range(2):\n",
    "        plt.text(j,i, cm[i][j])\n",
    "plt.show()"
   ]
  },
  {
   "cell_type": "markdown",
   "id": "ac9eb1c1",
   "metadata": {
    "papermill": {
     "duration": 0.134096,
     "end_time": "2022-02-27T12:41:17.752741",
     "exception": false,
     "start_time": "2022-02-27T12:41:17.618645",
     "status": "completed"
    },
    "tags": []
   },
   "source": [
    "We can see that the model did not make many False Negatives (16 out of 276). It is not perfect, but it is good enough."
   ]
  },
  {
   "cell_type": "markdown",
   "id": "d428db79",
   "metadata": {
    "execution": {
     "iopub.execute_input": "2022-02-25T15:30:01.914916Z",
     "iopub.status.busy": "2022-02-25T15:30:01.914414Z",
     "iopub.status.idle": "2022-02-25T15:30:01.923886Z",
     "shell.execute_reply": "2022-02-25T15:30:01.923178Z",
     "shell.execute_reply.started": "2022-02-25T15:30:01.914881Z"
    },
    "papermill": {
     "duration": 0.108327,
     "end_time": "2022-02-27T12:41:17.972721",
     "exception": false,
     "start_time": "2022-02-27T12:41:17.864394",
     "status": "completed"
    },
    "tags": []
   },
   "source": [
    "### Classification report:"
   ]
  },
  {
   "cell_type": "code",
   "execution_count": 40,
   "id": "b5b9102d",
   "metadata": {
    "execution": {
     "iopub.execute_input": "2022-02-27T12:41:18.200772Z",
     "iopub.status.busy": "2022-02-27T12:41:18.200026Z",
     "iopub.status.idle": "2022-02-27T12:41:18.215579Z",
     "shell.execute_reply": "2022-02-27T12:41:18.215059Z",
     "shell.execute_reply.started": "2022-02-27T12:39:22.804310Z"
    },
    "papermill": {
     "duration": 0.132633,
     "end_time": "2022-02-27T12:41:18.215733",
     "exception": false,
     "start_time": "2022-02-27T12:41:18.083100",
     "status": "completed"
    },
    "tags": []
   },
   "outputs": [
    {
     "data": {
      "text/html": [
       "<div>\n",
       "<style scoped>\n",
       "    .dataframe tbody tr th:only-of-type {\n",
       "        vertical-align: middle;\n",
       "    }\n",
       "\n",
       "    .dataframe tbody tr th {\n",
       "        vertical-align: top;\n",
       "    }\n",
       "\n",
       "    .dataframe thead th {\n",
       "        text-align: right;\n",
       "    }\n",
       "</style>\n",
       "<table border=\"1\" class=\"dataframe\">\n",
       "  <thead>\n",
       "    <tr style=\"text-align: right;\">\n",
       "      <th></th>\n",
       "      <th>precision</th>\n",
       "      <th>recall</th>\n",
       "      <th>f1-score</th>\n",
       "      <th>support</th>\n",
       "    </tr>\n",
       "  </thead>\n",
       "  <tbody>\n",
       "    <tr>\n",
       "      <th>0</th>\n",
       "      <td>0.869919</td>\n",
       "      <td>0.810606</td>\n",
       "      <td>0.839216</td>\n",
       "      <td>132.000000</td>\n",
       "    </tr>\n",
       "    <tr>\n",
       "      <th>1</th>\n",
       "      <td>0.836601</td>\n",
       "      <td>0.888889</td>\n",
       "      <td>0.861953</td>\n",
       "      <td>144.000000</td>\n",
       "    </tr>\n",
       "    <tr>\n",
       "      <th>accuracy</th>\n",
       "      <td>0.851449</td>\n",
       "      <td>0.851449</td>\n",
       "      <td>0.851449</td>\n",
       "      <td>0.851449</td>\n",
       "    </tr>\n",
       "    <tr>\n",
       "      <th>macro avg</th>\n",
       "      <td>0.853260</td>\n",
       "      <td>0.849747</td>\n",
       "      <td>0.850584</td>\n",
       "      <td>276.000000</td>\n",
       "    </tr>\n",
       "    <tr>\n",
       "      <th>weighted avg</th>\n",
       "      <td>0.852536</td>\n",
       "      <td>0.851449</td>\n",
       "      <td>0.851079</td>\n",
       "      <td>276.000000</td>\n",
       "    </tr>\n",
       "  </tbody>\n",
       "</table>\n",
       "</div>"
      ],
      "text/plain": [
       "              precision    recall  f1-score     support\n",
       "0              0.869919  0.810606  0.839216  132.000000\n",
       "1              0.836601  0.888889  0.861953  144.000000\n",
       "accuracy       0.851449  0.851449  0.851449    0.851449\n",
       "macro avg      0.853260  0.849747  0.850584  276.000000\n",
       "weighted avg   0.852536  0.851449  0.851079  276.000000"
      ]
     },
     "execution_count": 40,
     "metadata": {},
     "output_type": "execute_result"
    }
   ],
   "source": [
    "report = classification_report(y_test, y_pred, output_dict = True)\n",
    "pd.DataFrame(report).T"
   ]
  },
  {
   "cell_type": "markdown",
   "id": "7f450cb3",
   "metadata": {
    "papermill": {
     "duration": 0.109623,
     "end_time": "2022-02-27T12:41:18.434938",
     "exception": false,
     "start_time": "2022-02-27T12:41:18.325315",
     "status": "completed"
    },
    "tags": []
   },
   "source": [
    "## Testing other models:"
   ]
  },
  {
   "cell_type": "markdown",
   "id": "87933b2d",
   "metadata": {
    "papermill": {
     "duration": 0.110429,
     "end_time": "2022-02-27T12:41:18.654102",
     "exception": false,
     "start_time": "2022-02-27T12:41:18.543673",
     "status": "completed"
    },
    "tags": []
   },
   "source": [
    "I have picked some classifiers to test, and use the one with the highest Recall."
   ]
  },
  {
   "cell_type": "code",
   "execution_count": 41,
   "id": "ac65c922",
   "metadata": {
    "execution": {
     "iopub.execute_input": "2022-02-27T12:41:18.883212Z",
     "iopub.status.busy": "2022-02-27T12:41:18.882613Z",
     "iopub.status.idle": "2022-02-27T12:41:18.884089Z",
     "shell.execute_reply": "2022-02-27T12:41:18.884657Z",
     "shell.execute_reply.started": "2022-02-27T12:39:22.820880Z"
    },
    "papermill": {
     "duration": 0.119483,
     "end_time": "2022-02-27T12:41:18.884799",
     "exception": false,
     "start_time": "2022-02-27T12:41:18.765316",
     "status": "completed"
    },
    "tags": []
   },
   "outputs": [],
   "source": [
    "KFold_Score = pd.DataFrame()\n",
    "classifiers = ['Linear SVM', 'Poly SVM', 'Sigmoid SVM', 'Rbf SVM','LogisticRegression', 'RandomForestClassifier','GradientBoostingClassifier', 'AdaBoostClassifier']\n",
    "models = [svm.SVC(kernel='linear'),\n",
    "          svm.SVC(kernel='poly'),\n",
    "          svm.SVC(kernel='sigmoid'),\n",
    "          svm.SVC(kernel='rbf'),\n",
    "          LogisticRegression(max_iter = 1000),\n",
    "          RandomForestClassifier(n_estimators=200, random_state=0),\n",
    "          GradientBoostingClassifier(random_state=0),\n",
    "          AdaBoostClassifier(random_state=0)\n",
    "         ]"
   ]
  },
  {
   "cell_type": "code",
   "execution_count": 42,
   "id": "b44f2fc2",
   "metadata": {
    "execution": {
     "iopub.execute_input": "2022-02-27T12:41:19.105077Z",
     "iopub.status.busy": "2022-02-27T12:41:19.104431Z",
     "iopub.status.idle": "2022-02-27T12:41:22.782802Z",
     "shell.execute_reply": "2022-02-27T12:41:22.782107Z",
     "shell.execute_reply.started": "2022-02-27T12:39:22.828544Z"
    },
    "papermill": {
     "duration": 3.789352,
     "end_time": "2022-02-27T12:41:22.782938",
     "exception": false,
     "start_time": "2022-02-27T12:41:18.993586",
     "status": "completed"
    },
    "tags": []
   },
   "outputs": [],
   "source": [
    "j = 0\n",
    "for i in models:\n",
    "    model = i\n",
    "    cv = KFold(n_splits=5, random_state=0, shuffle=True)\n",
    "    KFold_Score[classifiers[j]] = (cross_val_score(model, X_train, y_train, scoring = 'recall', cv=cv))\n",
    "    j = j+1"
   ]
  },
  {
   "cell_type": "code",
   "execution_count": 43,
   "id": "c5c18ef5",
   "metadata": {
    "execution": {
     "iopub.execute_input": "2022-02-27T12:41:23.025747Z",
     "iopub.status.busy": "2022-02-27T12:41:23.014777Z",
     "iopub.status.idle": "2022-02-27T12:41:23.030168Z",
     "shell.execute_reply": "2022-02-27T12:41:23.029534Z",
     "shell.execute_reply.started": "2022-02-27T12:39:25.772135Z"
    },
    "papermill": {
     "duration": 0.135915,
     "end_time": "2022-02-27T12:41:23.030334",
     "exception": false,
     "start_time": "2022-02-27T12:41:22.894419",
     "status": "completed"
    },
    "tags": []
   },
   "outputs": [
    {
     "data": {
      "text/html": [
       "<div>\n",
       "<style scoped>\n",
       "    .dataframe tbody tr th:only-of-type {\n",
       "        vertical-align: middle;\n",
       "    }\n",
       "\n",
       "    .dataframe tbody tr th {\n",
       "        vertical-align: top;\n",
       "    }\n",
       "\n",
       "    .dataframe thead th {\n",
       "        text-align: right;\n",
       "    }\n",
       "</style>\n",
       "<table border=\"1\" class=\"dataframe\">\n",
       "  <thead>\n",
       "    <tr style=\"text-align: right;\">\n",
       "      <th></th>\n",
       "      <th>Fold 1</th>\n",
       "      <th>Fold 2</th>\n",
       "      <th>Fold 3</th>\n",
       "      <th>Fold 4</th>\n",
       "      <th>Fold 5</th>\n",
       "      <th>Mean</th>\n",
       "    </tr>\n",
       "  </thead>\n",
       "  <tbody>\n",
       "    <tr>\n",
       "      <th>Poly SVM</th>\n",
       "      <td>0.920000</td>\n",
       "      <td>0.909091</td>\n",
       "      <td>0.914286</td>\n",
       "      <td>0.945946</td>\n",
       "      <td>0.955882</td>\n",
       "      <td>0.929041</td>\n",
       "    </tr>\n",
       "    <tr>\n",
       "      <th>Linear SVM</th>\n",
       "      <td>0.933333</td>\n",
       "      <td>0.870130</td>\n",
       "      <td>0.900000</td>\n",
       "      <td>0.851351</td>\n",
       "      <td>0.852941</td>\n",
       "      <td>0.881551</td>\n",
       "    </tr>\n",
       "    <tr>\n",
       "      <th>AdaBoostClassifier</th>\n",
       "      <td>0.826667</td>\n",
       "      <td>0.896104</td>\n",
       "      <td>0.914286</td>\n",
       "      <td>0.837838</td>\n",
       "      <td>0.926471</td>\n",
       "      <td>0.880273</td>\n",
       "    </tr>\n",
       "    <tr>\n",
       "      <th>LogisticRegression</th>\n",
       "      <td>0.906667</td>\n",
       "      <td>0.870130</td>\n",
       "      <td>0.900000</td>\n",
       "      <td>0.851351</td>\n",
       "      <td>0.852941</td>\n",
       "      <td>0.876218</td>\n",
       "    </tr>\n",
       "    <tr>\n",
       "      <th>RandomForestClassifier</th>\n",
       "      <td>0.866667</td>\n",
       "      <td>0.896104</td>\n",
       "      <td>0.900000</td>\n",
       "      <td>0.810811</td>\n",
       "      <td>0.897059</td>\n",
       "      <td>0.874128</td>\n",
       "    </tr>\n",
       "    <tr>\n",
       "      <th>Rbf SVM</th>\n",
       "      <td>0.920000</td>\n",
       "      <td>0.844156</td>\n",
       "      <td>0.885714</td>\n",
       "      <td>0.837838</td>\n",
       "      <td>0.882353</td>\n",
       "      <td>0.874012</td>\n",
       "    </tr>\n",
       "    <tr>\n",
       "      <th>GradientBoostingClassifier</th>\n",
       "      <td>0.866667</td>\n",
       "      <td>0.909091</td>\n",
       "      <td>0.900000</td>\n",
       "      <td>0.824324</td>\n",
       "      <td>0.867647</td>\n",
       "      <td>0.873546</td>\n",
       "    </tr>\n",
       "    <tr>\n",
       "      <th>Sigmoid SVM</th>\n",
       "      <td>0.813333</td>\n",
       "      <td>0.844156</td>\n",
       "      <td>0.785714</td>\n",
       "      <td>0.797297</td>\n",
       "      <td>0.764706</td>\n",
       "      <td>0.801041</td>\n",
       "    </tr>\n",
       "  </tbody>\n",
       "</table>\n",
       "</div>"
      ],
      "text/plain": [
       "                              Fold 1    Fold 2    Fold 3    Fold 4    Fold 5  \\\n",
       "Poly SVM                    0.920000  0.909091  0.914286  0.945946  0.955882   \n",
       "Linear SVM                  0.933333  0.870130  0.900000  0.851351  0.852941   \n",
       "AdaBoostClassifier          0.826667  0.896104  0.914286  0.837838  0.926471   \n",
       "LogisticRegression          0.906667  0.870130  0.900000  0.851351  0.852941   \n",
       "RandomForestClassifier      0.866667  0.896104  0.900000  0.810811  0.897059   \n",
       "Rbf SVM                     0.920000  0.844156  0.885714  0.837838  0.882353   \n",
       "GradientBoostingClassifier  0.866667  0.909091  0.900000  0.824324  0.867647   \n",
       "Sigmoid SVM                 0.813333  0.844156  0.785714  0.797297  0.764706   \n",
       "\n",
       "                                Mean  \n",
       "Poly SVM                    0.929041  \n",
       "Linear SVM                  0.881551  \n",
       "AdaBoostClassifier          0.880273  \n",
       "LogisticRegression          0.876218  \n",
       "RandomForestClassifier      0.874128  \n",
       "Rbf SVM                     0.874012  \n",
       "GradientBoostingClassifier  0.873546  \n",
       "Sigmoid SVM                 0.801041  "
      ]
     },
     "execution_count": 43,
     "metadata": {},
     "output_type": "execute_result"
    }
   ],
   "source": [
    "mean = pd.DataFrame(KFold_Score.mean(), index= classifiers)\n",
    "KFold_Score = pd.concat([KFold_Score,mean.T])\n",
    "KFold_Score.index=['Fold 1','Fold 2','Fold 3','Fold 4', 'Fold 5', 'Mean']\n",
    "KFold_Score.T.sort_values(by=['Mean'], ascending = False)"
   ]
  },
  {
   "cell_type": "markdown",
   "id": "cfe40d15",
   "metadata": {
    "papermill": {
     "duration": 0.109451,
     "end_time": "2022-02-27T12:41:23.249133",
     "exception": false,
     "start_time": "2022-02-27T12:41:23.139682",
     "status": "completed"
    },
    "tags": []
   },
   "source": [
    "After testing multiple models, we can see that Polynomial Svm outperformed them all. so we will tune further more and finally use it to predict our targer variable."
   ]
  },
  {
   "cell_type": "markdown",
   "id": "93fb5022",
   "metadata": {
    "papermill": {
     "duration": 0.110551,
     "end_time": "2022-02-27T12:41:23.466652",
     "exception": false,
     "start_time": "2022-02-27T12:41:23.356101",
     "status": "completed"
    },
    "tags": []
   },
   "source": [
    "### Hyper-parameter tunning"
   ]
  },
  {
   "cell_type": "code",
   "execution_count": 44,
   "id": "85d382cb",
   "metadata": {
    "execution": {
     "iopub.execute_input": "2022-02-27T12:41:23.695008Z",
     "iopub.status.busy": "2022-02-27T12:41:23.694248Z",
     "iopub.status.idle": "2022-02-27T12:41:38.369951Z",
     "shell.execute_reply": "2022-02-27T12:41:38.369430Z",
     "shell.execute_reply.started": "2022-02-27T12:39:25.796745Z"
    },
    "papermill": {
     "duration": 14.793669,
     "end_time": "2022-02-27T12:41:38.370090",
     "exception": false,
     "start_time": "2022-02-27T12:41:23.576421",
     "status": "completed"
    },
    "tags": []
   },
   "outputs": [
    {
     "data": {
      "text/plain": [
       "GridSearchCV(cv=3, estimator=SVC(kernel='poly'),\n",
       "             param_grid={'C': [1, 10], 'gamma': [0.001, 0.01, 1]},\n",
       "             scoring='recall')"
      ]
     },
     "execution_count": 44,
     "metadata": {},
     "output_type": "execute_result"
    }
   ],
   "source": [
    "params = {\n",
    "    \"C\": [1, 10],\n",
    "    \"gamma\": [0.001, 0.01, 1],\n",
    "}\n",
    "svm_grid = GridSearchCV(svm.SVC(kernel='poly'), params, cv=3, scoring='recall')\n",
    "svm_grid.fit(X_train, y_train)"
   ]
  },
  {
   "cell_type": "code",
   "execution_count": 45,
   "id": "a865c57f",
   "metadata": {
    "execution": {
     "iopub.execute_input": "2022-02-27T12:41:38.592923Z",
     "iopub.status.busy": "2022-02-27T12:41:38.592070Z",
     "iopub.status.idle": "2022-02-27T12:41:38.595326Z",
     "shell.execute_reply": "2022-02-27T12:41:38.595766Z",
     "shell.execute_reply.started": "2022-02-27T12:39:38.555081Z"
    },
    "papermill": {
     "duration": 0.117436,
     "end_time": "2022-02-27T12:41:38.595921",
     "exception": false,
     "start_time": "2022-02-27T12:41:38.478485",
     "status": "completed"
    },
    "tags": []
   },
   "outputs": [
    {
     "name": "stdout",
     "output_type": "stream",
     "text": [
      "Best estimator: SVC(C=1, gamma=0.001, kernel='poly')\n",
      "Best score: 1.0\n"
     ]
    }
   ],
   "source": [
    "print(\"Best estimator:\",svm_grid.best_estimator_)\n",
    "print(\"Best score:\", svm_grid.best_score_)"
   ]
  },
  {
   "cell_type": "markdown",
   "id": "d6f21435",
   "metadata": {
    "papermill": {
     "duration": 0.108099,
     "end_time": "2022-02-27T12:41:38.812140",
     "exception": false,
     "start_time": "2022-02-27T12:41:38.704041",
     "status": "completed"
    },
    "tags": []
   },
   "source": [
    "### Fitting polynomial SVM model"
   ]
  },
  {
   "cell_type": "code",
   "execution_count": 46,
   "id": "3321fa7d",
   "metadata": {
    "execution": {
     "iopub.execute_input": "2022-02-27T12:41:39.036978Z",
     "iopub.status.busy": "2022-02-27T12:41:39.036027Z",
     "iopub.status.idle": "2022-02-27T12:41:39.048775Z",
     "shell.execute_reply": "2022-02-27T12:41:39.048179Z",
     "shell.execute_reply.started": "2022-02-27T12:39:38.563258Z"
    },
    "papermill": {
     "duration": 0.127849,
     "end_time": "2022-02-27T12:41:39.048925",
     "exception": false,
     "start_time": "2022-02-27T12:41:38.921076",
     "status": "completed"
    },
    "tags": []
   },
   "outputs": [
    {
     "data": {
      "text/plain": [
       "SVC(C=1, gamma=0.001, kernel='poly')"
      ]
     },
     "execution_count": 46,
     "metadata": {},
     "output_type": "execute_result"
    }
   ],
   "source": [
    "model_svm = svm.SVC(kernel=\"poly\", C=1, gamma=0.001)\n",
    "model_svm.fit(X_train, y_train)"
   ]
  },
  {
   "cell_type": "code",
   "execution_count": 47,
   "id": "909cea85",
   "metadata": {
    "execution": {
     "iopub.execute_input": "2022-02-27T12:41:39.276533Z",
     "iopub.status.busy": "2022-02-27T12:41:39.272749Z",
     "iopub.status.idle": "2022-02-27T12:41:39.279459Z",
     "shell.execute_reply": "2022-02-27T12:41:39.278749Z",
     "shell.execute_reply.started": "2022-02-27T12:39:38.594541Z"
    },
    "papermill": {
     "duration": 0.119683,
     "end_time": "2022-02-27T12:41:39.279641",
     "exception": false,
     "start_time": "2022-02-27T12:41:39.159958",
     "status": "completed"
    },
    "tags": []
   },
   "outputs": [],
   "source": [
    "y_pred = model_svm.predict(X_test)"
   ]
  },
  {
   "cell_type": "markdown",
   "id": "dddd2d2b",
   "metadata": {
    "papermill": {
     "duration": 0.11001,
     "end_time": "2022-02-27T12:41:39.504624",
     "exception": false,
     "start_time": "2022-02-27T12:41:39.394614",
     "status": "completed"
    },
    "tags": []
   },
   "source": [
    "### Results"
   ]
  },
  {
   "cell_type": "code",
   "execution_count": 48,
   "id": "58cc769e",
   "metadata": {
    "execution": {
     "iopub.execute_input": "2022-02-27T12:41:39.726838Z",
     "iopub.status.busy": "2022-02-27T12:41:39.726172Z",
     "iopub.status.idle": "2022-02-27T12:41:39.735710Z",
     "shell.execute_reply": "2022-02-27T12:41:39.734921Z",
     "shell.execute_reply.started": "2022-02-27T12:39:38.606090Z"
    },
    "papermill": {
     "duration": 0.122735,
     "end_time": "2022-02-27T12:41:39.735896",
     "exception": false,
     "start_time": "2022-02-27T12:41:39.613161",
     "status": "completed"
    },
    "tags": []
   },
   "outputs": [
    {
     "name": "stdout",
     "output_type": "stream",
     "text": [
      "Recall score | 1.0\n",
      "Accuracy score | 0.5217391304347826\n",
      "F1-score | 0.6857142857142856\n",
      "Area under curve score |  0.5\n"
     ]
    }
   ],
   "source": [
    "print(\"Recall score |\", recall_score(y_test, y_pred))\n",
    "print(\"Accuracy score |\", accuracy_score(y_test, y_pred))\n",
    "print(\"F1-score |\", f1_score(y_test, y_pred))\n",
    "print(\"Area under curve score | \", roc_auc_score(y_test, y_pred))"
   ]
  },
  {
   "cell_type": "markdown",
   "id": "c30abe0b",
   "metadata": {
    "papermill": {
     "duration": 0.108645,
     "end_time": "2022-02-27T12:41:39.956249",
     "exception": false,
     "start_time": "2022-02-27T12:41:39.847604",
     "status": "completed"
    },
    "tags": []
   },
   "source": [
    "We can see that eventhough we have obtained a recall score of 1, AUC score is 0.5, which is the same as a model that has no class separation capacity whatsoever."
   ]
  },
  {
   "cell_type": "markdown",
   "id": "1b830d01",
   "metadata": {
    "papermill": {
     "duration": 0.110671,
     "end_time": "2022-02-27T12:41:40.176580",
     "exception": false,
     "start_time": "2022-02-27T12:41:40.065909",
     "status": "completed"
    },
    "tags": []
   },
   "source": [
    "The choice of the model depends on the requirements set, do we need to avoid making mistakes sending away people that turn out to have sickness, or we want a model that is right most of the time? <br>\n",
    "There maybe other classifiers that will do better that the ones stated above, also we can further tune the hyper parameters of KNN to obtain better results, or better, we can create other variables starting from the variables available, but that requires domain expertise. <br>"
   ]
  },
  {
   "cell_type": "markdown",
   "id": "e694f267",
   "metadata": {
    "papermill": {
     "duration": 0.111309,
     "end_time": "2022-02-27T12:41:40.400747",
     "exception": false,
     "start_time": "2022-02-27T12:41:40.289438",
     "status": "completed"
    },
    "tags": []
   },
   "source": [
    "`Thank you for reading the notebook till the end, have a great day.`"
   ]
  }
 ],
 "metadata": {
  "kernelspec": {
   "display_name": "Python 3",
   "language": "python",
   "name": "python3"
  },
  "language_info": {
   "codemirror_mode": {
    "name": "ipython",
    "version": 3
   },
   "file_extension": ".py",
   "mimetype": "text/x-python",
   "name": "python",
   "nbconvert_exporter": "python",
   "pygments_lexer": "ipython3",
   "version": "3.7.12"
  },
  "papermill": {
   "default_parameters": {},
   "duration": 69.269342,
   "end_time": "2022-02-27T12:41:41.320855",
   "environment_variables": {},
   "exception": null,
   "input_path": "__notebook__.ipynb",
   "output_path": "__notebook__.ipynb",
   "parameters": {},
   "start_time": "2022-02-27T12:40:32.051513",
   "version": "2.3.3"
  }
 },
 "nbformat": 4,
 "nbformat_minor": 5
}
